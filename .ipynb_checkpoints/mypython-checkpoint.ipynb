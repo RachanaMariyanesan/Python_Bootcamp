{
 "cells": [
  {
   "cell_type": "code",
   "execution_count": 5,
   "id": "4e21fe0f",
   "metadata": {},
   "outputs": [],
   "source": [
    "marks=59"
   ]
  },
  {
   "cell_type": "code",
   "execution_count": 2,
   "id": "5cb10532",
   "metadata": {},
   "outputs": [
    {
     "name": "stdout",
     "output_type": "stream",
     "text": [
      "Fail\n"
     ]
    }
   ],
   "source": [
    "if (marks>=60):\n",
    "    print('Pass')\n",
    "else:\n",
    "    print('Fail')\n"
   ]
  },
  {
   "cell_type": "code",
   "execution_count": 4,
   "id": "7a99a36b",
   "metadata": {},
   "outputs": [
    {
     "name": "stdout",
     "output_type": "stream",
     "text": [
      "Fail\n"
     ]
    }
   ],
   "source": [
    "age=18\n",
    "if(age<20):\n",
    "    if (marks>=60):\n",
    "        print('Pass')\n",
    "    else:\n",
    "        print('Fail')\n",
    "else:\n",
    "    print('You are above age')"
   ]
  },
  {
   "cell_type": "code",
   "execution_count": 6,
   "id": "c60117a2",
   "metadata": {},
   "outputs": [],
   "source": [
    "new_list=['a','b','c']"
   ]
  },
  {
   "cell_type": "code",
   "execution_count": 9,
   "id": "1a57dd3d",
   "metadata": {
    "scrolled": true
   },
   "outputs": [
    {
     "name": "stdout",
     "output_type": "stream",
     "text": [
      "a\n",
      "hi\n",
      "b\n",
      "hi\n",
      "c\n",
      "hi\n"
     ]
    }
   ],
   "source": [
    "for str_value in new_list:\n",
    "    print(str_value)\n",
    "    print('hi')"
   ]
  },
  {
   "cell_type": "code",
   "execution_count": 10,
   "id": "9f635a43",
   "metadata": {},
   "outputs": [],
   "source": [
    "num_list=[1,2,3,4,5]"
   ]
  },
  {
   "cell_type": "code",
   "execution_count": 11,
   "id": "9c513d05",
   "metadata": {},
   "outputs": [
    {
     "name": "stdout",
     "output_type": "stream",
     "text": [
      "odd number: 1\n",
      "even number: 2\n",
      "odd number: 3\n",
      "even number: 4\n",
      "odd number: 5\n"
     ]
    }
   ],
   "source": [
    "for my_int in num_list:\n",
    "    if  my_int %2==0:\n",
    "        print(f'even number: {my_int}')\n",
    "    else:\n",
    "        print(f'odd number: {my_int}')"
   ]
  },
  {
   "cell_type": "code",
   "execution_count": 23,
   "id": "8e5eb255",
   "metadata": {},
   "outputs": [],
   "source": [
    "m_total=0"
   ]
  },
  {
   "cell_type": "code",
   "execution_count": 24,
   "id": "609ad80d",
   "metadata": {},
   "outputs": [
    {
     "name": "stdout",
     "output_type": "stream",
     "text": [
      "15\n"
     ]
    }
   ],
   "source": [
    "for num in num_list:\n",
    "    m_total =  m_total + num\n",
    "print(m_total)"
   ]
  },
  {
   "cell_type": "code",
   "execution_count": 26,
   "id": "6b8a83e9",
   "metadata": {},
   "outputs": [
    {
     "name": "stdout",
     "output_type": "stream",
     "text": [
      "15\n"
     ]
    }
   ],
   "source": [
    "total=0\n",
    "for num in num_list:\n",
    "    total += num\n",
    "print(total)"
   ]
  },
  {
   "cell_type": "code",
   "execution_count": 27,
   "id": "d08e5660",
   "metadata": {},
   "outputs": [
    {
     "name": "stdout",
     "output_type": "stream",
     "text": [
      "H\n",
      "i\n",
      " \n",
      "D\n",
      "a\n",
      "v\n",
      "i\n",
      "d\n"
     ]
    }
   ],
   "source": [
    "for str_val in 'Hi David':\n",
    "    print(str_val)"
   ]
  },
  {
   "cell_type": "code",
   "execution_count": 28,
   "id": "e929f28d",
   "metadata": {},
   "outputs": [
    {
     "name": "stdout",
     "output_type": "stream",
     "text": [
      "2\n",
      "3\n",
      "6\n"
     ]
    }
   ],
   "source": [
    "for tuple_val in(2,3,6):\n",
    "    print(tuple_val)"
   ]
  },
  {
   "cell_type": "code",
   "execution_count": 29,
   "id": "94fde50b",
   "metadata": {},
   "outputs": [],
   "source": [
    "my_tuple_list=[(1,2),(3,4),(5,6)]"
   ]
  },
  {
   "cell_type": "code",
   "execution_count": 30,
   "id": "600c9523",
   "metadata": {},
   "outputs": [
    {
     "name": "stdout",
     "output_type": "stream",
     "text": [
      "3\n",
      "7\n",
      "11\n"
     ]
    }
   ],
   "source": [
    "for (a,b) in my_tuple_list:\n",
    "    print(a+b)"
   ]
  },
  {
   "cell_type": "code",
   "execution_count": 31,
   "id": "718066a8",
   "metadata": {},
   "outputs": [
    {
     "name": "stdout",
     "output_type": "stream",
     "text": [
      "1\n",
      "2\n",
      "3\n",
      "4\n",
      "5\n",
      "6\n"
     ]
    }
   ],
   "source": [
    "for (x,y) in my_tuple_list:\n",
    "    print(x)\n",
    "    print(y)"
   ]
  },
  {
   "cell_type": "code",
   "execution_count": 32,
   "id": "1a0973f0",
   "metadata": {},
   "outputs": [],
   "source": [
    "my_dict={'key_1':1, 'key_2':2, 'key_3':3}"
   ]
  },
  {
   "cell_type": "code",
   "execution_count": 33,
   "id": "cf676471",
   "metadata": {},
   "outputs": [
    {
     "data": {
      "text/plain": [
       "dict_items([('key_1', 1), ('key_2', 2), ('key_3', 3)])"
      ]
     },
     "execution_count": 33,
     "metadata": {},
     "output_type": "execute_result"
    }
   ],
   "source": [
    "my_dict.items()"
   ]
  },
  {
   "cell_type": "code",
   "execution_count": 35,
   "id": "4f50eb22",
   "metadata": {},
   "outputs": [
    {
     "name": "stdout",
     "output_type": "stream",
     "text": [
      "key_1\n",
      "key_2\n",
      "key_3\n"
     ]
    }
   ],
   "source": [
    "for (key,val) in my_dict.items():\n",
    "    print(key)"
   ]
  },
  {
   "cell_type": "code",
   "execution_count": 36,
   "id": "52a54ccf",
   "metadata": {},
   "outputs": [
    {
     "name": "stdout",
     "output_type": "stream",
     "text": [
      "1\n",
      "2\n",
      "3\n"
     ]
    }
   ],
   "source": [
    "for var_key in my_dict:\n",
    "    print(my_dict[var_key])"
   ]
  },
  {
   "cell_type": "code",
   "execution_count": 37,
   "id": "2ee0f35a",
   "metadata": {},
   "outputs": [
    {
     "name": "stdout",
     "output_type": "stream",
     "text": [
      "key_1:1\n",
      "key_2:2\n",
      "key_3:3\n"
     ]
    }
   ],
   "source": [
    "for (key,val) in my_dict.items():\n",
    "    print(key+':'+str(val))"
   ]
  },
  {
   "cell_type": "code",
   "execution_count": 38,
   "id": "b0b3615b",
   "metadata": {},
   "outputs": [],
   "source": [
    "num_list=[1,2,3,4,5]"
   ]
  },
  {
   "cell_type": "code",
   "execution_count": 39,
   "id": "3d341360",
   "metadata": {},
   "outputs": [
    {
     "name": "stdout",
     "output_type": "stream",
     "text": [
      "1\n",
      "2\n",
      "3\n"
     ]
    }
   ],
   "source": [
    "for num in num_list:\n",
    "    print(num)\n",
    "    if num==3:\n",
    "        break"
   ]
  },
  {
   "cell_type": "code",
   "execution_count": 41,
   "id": "a4e88a15",
   "metadata": {},
   "outputs": [
    {
     "name": "stdout",
     "output_type": "stream",
     "text": [
      "1\n",
      "2\n"
     ]
    }
   ],
   "source": [
    "for num in num_list:\n",
    "    if num==3:\n",
    "        break\n",
    "    print(num)"
   ]
  },
  {
   "cell_type": "code",
   "execution_count": 42,
   "id": "69b37566",
   "metadata": {},
   "outputs": [
    {
     "name": "stdout",
     "output_type": "stream",
     "text": [
      "1\n",
      "2\n",
      "4\n",
      "5\n"
     ]
    }
   ],
   "source": [
    "for num in num_list:\n",
    "    if num==3:\n",
    "        continue\n",
    "    print(num)"
   ]
  },
  {
   "cell_type": "code",
   "execution_count": 43,
   "id": "5ff866ca",
   "metadata": {},
   "outputs": [
    {
     "name": "stdout",
     "output_type": "stream",
     "text": [
      "1\n",
      "2\n",
      "3\n",
      "4\n",
      "5\n"
     ]
    }
   ],
   "source": [
    "for num in num_list:\n",
    "    print(num)\n",
    "    if num==3:\n",
    "        continue "
   ]
  },
  {
   "cell_type": "code",
   "execution_count": 44,
   "id": "c4f52713",
   "metadata": {},
   "outputs": [
    {
     "name": "stdout",
     "output_type": "stream",
     "text": [
      "1\n",
      "2\n",
      "3\n",
      "4\n",
      "5\n",
      "Loop finished\n"
     ]
    }
   ],
   "source": [
    "for num in num_list:\n",
    "    print(num)\n",
    "else:\n",
    "    print('Loop finished')"
   ]
  },
  {
   "cell_type": "code",
   "execution_count": 45,
   "id": "a2d5df86",
   "metadata": {},
   "outputs": [
    {
     "name": "stdout",
     "output_type": "stream",
     "text": [
      "1\n",
      "2\n",
      "3\n",
      "4\n",
      "5\n",
      "Loop finished\n"
     ]
    }
   ],
   "source": [
    "for num in num_list:\n",
    "    print(num)\n",
    "\n",
    "print('Loop finished')"
   ]
  },
  {
   "cell_type": "code",
   "execution_count": 46,
   "id": "548287eb",
   "metadata": {},
   "outputs": [
    {
     "name": "stdout",
     "output_type": "stream",
     "text": [
      "1\n",
      "2\n",
      "3\n"
     ]
    }
   ],
   "source": [
    "for num in num_list:\n",
    "    print(num)\n",
    "    if num==3:\n",
    "        break\n",
    "else:\n",
    "    print('Loop finished')  "
   ]
  },
  {
   "cell_type": "code",
   "execution_count": 47,
   "id": "dc648450",
   "metadata": {},
   "outputs": [
    {
     "name": "stdout",
     "output_type": "stream",
     "text": [
      "1\n",
      "2\n",
      "3\n",
      "4\n",
      "5\n",
      "Else part\n"
     ]
    }
   ],
   "source": [
    "for num in num_list:\n",
    "    print(num)\n",
    "    if num==6:\n",
    "        break\n",
    "else:\n",
    "    print('Else part')  "
   ]
  },
  {
   "cell_type": "code",
   "execution_count": 48,
   "id": "8516a20f",
   "metadata": {},
   "outputs": [
    {
     "name": "stdout",
     "output_type": "stream",
     "text": [
      "1\n",
      "2\n",
      "3\n",
      "4\n",
      "5\n"
     ]
    }
   ],
   "source": [
    "for num in num_list:\n",
    "    print(num)\n",
    "    if num==6:\n",
    "        break"
   ]
  },
  {
   "cell_type": "code",
   "execution_count": 49,
   "id": "2d2066f0",
   "metadata": {},
   "outputs": [
    {
     "name": "stdout",
     "output_type": "stream",
     "text": [
      "redapple\n",
      "redbanana\n",
      "redcherry\n",
      "blueapple\n",
      "bluebanana\n",
      "bluecherry\n",
      "greenapple\n",
      "greenbanana\n",
      "greencherry\n"
     ]
    }
   ],
   "source": [
    "adj=['red','blue','green']\n",
    "fruits=['apple','banana','cherry']\n",
    "for x in adj:\n",
    "    for y in fruits:\n",
    "        print(x+y)"
   ]
  },
  {
   "cell_type": "code",
   "execution_count": 50,
   "id": "aa2b9cd9",
   "metadata": {},
   "outputs": [
    {
     "name": "stdout",
     "output_type": "stream",
     "text": [
      "redapple\n",
      "blueapple\n",
      "greenapple\n"
     ]
    }
   ],
   "source": [
    "adj=['red','blue','green']\n",
    "fruits=['apple','banana','cherry']\n",
    "for x in adj:\n",
    "    for y in fruits:\n",
    "        if fruits[1]==y:\n",
    "            break \n",
    "        print(x+y)"
   ]
  },
  {
   "cell_type": "code",
   "execution_count": 51,
   "id": "a2b284b9",
   "metadata": {},
   "outputs": [
    {
     "name": "stdout",
     "output_type": "stream",
     "text": [
      "red\n",
      "blue\n",
      "green\n"
     ]
    }
   ],
   "source": [
    "for x in adj:\n",
    "    print(x)\n",
    "    for y in fruits:\n",
    "        pass"
   ]
  },
  {
   "cell_type": "code",
   "execution_count": 52,
   "id": "0378f5a2",
   "metadata": {},
   "outputs": [
    {
     "name": "stdout",
     "output_type": "stream",
     "text": [
      "x is 0\n",
      "x is 1\n",
      "x is 2\n",
      "x is 3\n",
      "x is 4\n"
     ]
    }
   ],
   "source": [
    "x=0\n",
    "while x<5:\n",
    "    print(f'x is {x}')\n",
    "    x+=1"
   ]
  },
  {
   "cell_type": "code",
   "execution_count": 53,
   "id": "fcbcf85a",
   "metadata": {},
   "outputs": [
    {
     "name": "stdout",
     "output_type": "stream",
     "text": [
      "x is 0\n",
      "x is 1\n",
      "x is 2\n",
      "After loop\n"
     ]
    }
   ],
   "source": [
    "x=0\n",
    "while x<5:\n",
    "    print(f'x is {x}')\n",
    "    if x==2:\n",
    "        break\n",
    "    x+=1\n",
    "print('After loop')"
   ]
  },
  {
   "cell_type": "code",
   "execution_count": 56,
   "id": "61680568",
   "metadata": {},
   "outputs": [
    {
     "name": "stdout",
     "output_type": "stream",
     "text": [
      "x is 0\n",
      "x is 1\n",
      "x is 2\n",
      "x is 3\n",
      "x is 4\n",
      "After loop\n"
     ]
    }
   ],
   "source": [
    "x=0\n",
    "while x<5:\n",
    "    print(f'x is {x}')\n",
    "    if x==6:\n",
    "        break\n",
    "    x+=1\n",
    "else:\n",
    "     print('After loop')"
   ]
  },
  {
   "cell_type": "code",
   "execution_count": 57,
   "id": "48346bda",
   "metadata": {},
   "outputs": [
    {
     "name": "stdout",
     "output_type": "stream",
     "text": [
      "x is 0\n",
      "x is 1\n",
      "x is 2\n"
     ]
    }
   ],
   "source": [
    "x=0\n",
    "while x<5:\n",
    "    print(f'x is {x}')\n",
    "    if x==2:\n",
    "        break\n",
    "    x+=1\n",
    "else:\n",
    "     print('After loop')"
   ]
  },
  {
   "cell_type": "code",
   "execution_count": 1,
   "id": "87abe251",
   "metadata": {},
   "outputs": [
    {
     "name": "stdout",
     "output_type": "stream",
     "text": [
      "x is 1\n",
      "x is 2\n",
      "x is 4\n",
      "x is 5\n"
     ]
    }
   ],
   "source": [
    "x=0\n",
    "while x<5:\n",
    "    x+=1\n",
    "    if x==3:\n",
    "        continue\n",
    "    print(f'x is {x}')"
   ]
  },
  {
   "cell_type": "code",
   "execution_count": 3,
   "id": "4f908aca",
   "metadata": {},
   "outputs": [
    {
     "name": "stdout",
     "output_type": "stream",
     "text": [
      "x is 1\n",
      "x is 2\n",
      "x is 3\n",
      "x is 5\n"
     ]
    }
   ],
   "source": [
    "x=0\n",
    "while x<5:\n",
    "    x+=1\n",
    "    if x==4:\n",
    "        continue\n",
    "    print(f'x is {x}')"
   ]
  },
  {
   "cell_type": "code",
   "execution_count": 4,
   "id": "416cfff5",
   "metadata": {},
   "outputs": [
    {
     "name": "stdout",
     "output_type": "stream",
     "text": [
      "<class 'range'>\n"
     ]
    }
   ],
   "source": [
    "print(type(range(0,5,2)))"
   ]
  },
  {
   "cell_type": "code",
   "execution_count": 5,
   "id": "09c119d8",
   "metadata": {},
   "outputs": [
    {
     "name": "stdout",
     "output_type": "stream",
     "text": [
      "0\n",
      "2\n",
      "4\n"
     ]
    }
   ],
   "source": [
    "for num in range(0,5,2):\n",
    "    print(num)"
   ]
  },
  {
   "cell_type": "code",
   "execution_count": 6,
   "id": "ea113278",
   "metadata": {},
   "outputs": [
    {
     "name": "stdout",
     "output_type": "stream",
     "text": [
      "[0, 2, 4]\n"
     ]
    }
   ],
   "source": [
    "print(list(range(0,5,2)))"
   ]
  },
  {
   "cell_type": "code",
   "execution_count": 2,
   "id": "e1fc6ba8",
   "metadata": {},
   "outputs": [
    {
     "name": "stdout",
     "output_type": "stream",
     "text": [
      "<class 'enumerate'>\n"
     ]
    }
   ],
   "source": [
    "print(type(enumerate('rajah')))"
   ]
  },
  {
   "cell_type": "code",
   "execution_count": 3,
   "id": "91b02fdb",
   "metadata": {},
   "outputs": [
    {
     "name": "stdout",
     "output_type": "stream",
     "text": [
      "[(0, 1), (1, 2), (2, 5)]\n"
     ]
    }
   ],
   "source": [
    "print(list(enumerate([1,2,5])))"
   ]
  },
  {
   "cell_type": "code",
   "execution_count": 4,
   "id": "7a1d926f",
   "metadata": {},
   "outputs": [
    {
     "name": "stdout",
     "output_type": "stream",
     "text": [
      "0:1\n",
      "1:2\n",
      "2:5\n"
     ]
    }
   ],
   "source": [
    "for (position,value) in enumerate ([1,2,5]):\n",
    "    print(str(position)+':'+str(value))"
   ]
  },
  {
   "cell_type": "code",
   "execution_count": 5,
   "id": "95a12543",
   "metadata": {},
   "outputs": [],
   "source": [
    "list_1=[1,2,3,4,5]\n",
    "list_2=['a','b','c']\n",
    "list_3=[100,200,300]"
   ]
  },
  {
   "cell_type": "code",
   "execution_count": 6,
   "id": "9bb64d12",
   "metadata": {},
   "outputs": [
    {
     "name": "stdout",
     "output_type": "stream",
     "text": [
      "[(1, 'a', 100), (2, 'b', 200), (3, 'c', 300)]\n"
     ]
    }
   ],
   "source": [
    "print(list(zip(list_1,list_2,list_3)))"
   ]
  },
  {
   "cell_type": "code",
   "execution_count": 8,
   "id": "abe8e4c0",
   "metadata": {},
   "outputs": [
    {
     "name": "stdout",
     "output_type": "stream",
     "text": [
      "a\n",
      "b\n",
      "c\n"
     ]
    }
   ],
   "source": [
    "for p1,p2,p3 in zip(list_1,list_2,list_3):\n",
    "    print(p2)"
   ]
  },
  {
   "cell_type": "code",
   "execution_count": 1,
   "id": "f383c569",
   "metadata": {},
   "outputs": [
    {
     "data": {
      "text/plain": [
       "False"
      ]
     },
     "execution_count": 1,
     "metadata": {},
     "output_type": "execute_result"
    }
   ],
   "source": [
    "2 in [1,3]"
   ]
  },
  {
   "cell_type": "code",
   "execution_count": 2,
   "id": "1ab3ab29",
   "metadata": {},
   "outputs": [
    {
     "data": {
      "text/plain": [
       "True"
      ]
     },
     "execution_count": 2,
     "metadata": {},
     "output_type": "execute_result"
    }
   ],
   "source": [
    "'r' in 'rajah'"
   ]
  },
  {
   "cell_type": "code",
   "execution_count": 3,
   "id": "4667c568",
   "metadata": {},
   "outputs": [
    {
     "data": {
      "text/plain": [
       "True"
      ]
     },
     "execution_count": 3,
     "metadata": {},
     "output_type": "execute_result"
    }
   ],
   "source": [
    "2 not in [1,3]"
   ]
  },
  {
   "cell_type": "code",
   "execution_count": 4,
   "id": "5ca0b26c",
   "metadata": {},
   "outputs": [
    {
     "name": "stdout",
     "output_type": "stream",
     "text": [
      "Not in list\n"
     ]
    }
   ],
   "source": [
    "if  2 not in [1,3]:\n",
    "    print('Not in list')"
   ]
  },
  {
   "cell_type": "code",
   "execution_count": 5,
   "id": "a46c8aa2",
   "metadata": {},
   "outputs": [
    {
     "data": {
      "text/plain": [
       "True"
      ]
     },
     "execution_count": 5,
     "metadata": {},
     "output_type": "execute_result"
    }
   ],
   "source": [
    "'mykey' in {'mykey':5, 'nextkey':6}"
   ]
  },
  {
   "cell_type": "code",
   "execution_count": 6,
   "id": "0519b9dd",
   "metadata": {},
   "outputs": [
    {
     "data": {
      "text/plain": [
       "False"
      ]
     },
     "execution_count": 6,
     "metadata": {},
     "output_type": "execute_result"
    }
   ],
   "source": [
    "'mykeys' in {'mykey':5, 'nextkey':6}"
   ]
  },
  {
   "cell_type": "code",
   "execution_count": 7,
   "id": "1d1e714a",
   "metadata": {},
   "outputs": [
    {
     "data": {
      "text/plain": [
       "-6"
      ]
     },
     "execution_count": 7,
     "metadata": {},
     "output_type": "execute_result"
    }
   ],
   "source": [
    "min([1,-6,3,5,2])"
   ]
  },
  {
   "cell_type": "code",
   "execution_count": 8,
   "id": "613190c9",
   "metadata": {},
   "outputs": [
    {
     "data": {
      "text/plain": [
       "5"
      ]
     },
     "execution_count": 8,
     "metadata": {},
     "output_type": "execute_result"
    }
   ],
   "source": [
    "max([1,-6,3,5,2])"
   ]
  },
  {
   "cell_type": "code",
   "execution_count": 4,
   "id": "cd8b958f",
   "metadata": {},
   "outputs": [
    {
     "name": "stdout",
     "output_type": "stream",
     "text": [
      "pls input anything:45\n"
     ]
    }
   ],
   "source": [
    "var_in = input('pls input anything:')"
   ]
  },
  {
   "cell_type": "code",
   "execution_count": 5,
   "id": "01a7ec06",
   "metadata": {},
   "outputs": [
    {
     "name": "stdout",
     "output_type": "stream",
     "text": [
      "45\n"
     ]
    }
   ],
   "source": [
    "print(var_in)"
   ]
  },
  {
   "cell_type": "code",
   "execution_count": 6,
   "id": "fcba1428",
   "metadata": {},
   "outputs": [
    {
     "data": {
      "text/plain": [
       "str"
      ]
     },
     "execution_count": 6,
     "metadata": {},
     "output_type": "execute_result"
    }
   ],
   "source": [
    "type(var_in )"
   ]
  },
  {
   "cell_type": "code",
   "execution_count": 7,
   "id": "b03ca04c",
   "metadata": {},
   "outputs": [
    {
     "name": "stdout",
     "output_type": "stream",
     "text": [
      "pls provide 1st num:23\n",
      "pls provide 2nd num:45\n"
     ]
    }
   ],
   "source": [
    "var_1st=input('pls provide 1st num:')\n",
    "var_2nd=input('pls provide 2nd num:')"
   ]
  },
  {
   "cell_type": "code",
   "execution_count": 8,
   "id": "9b53800f",
   "metadata": {},
   "outputs": [
    {
     "name": "stdout",
     "output_type": "stream",
     "text": [
      "2345\n"
     ]
    }
   ],
   "source": [
    "print(var_1st+var_2nd)"
   ]
  },
  {
   "cell_type": "code",
   "execution_count": 9,
   "id": "f48ee585",
   "metadata": {},
   "outputs": [
    {
     "name": "stdout",
     "output_type": "stream",
     "text": [
      "pls provide 1st num:2\n",
      "pls provide 2nd num:3\n"
     ]
    }
   ],
   "source": [
    "var_1st=int(input('pls provide 1st num:'))\n",
    "var_2nd=int(input('pls provide 2nd num:'))"
   ]
  },
  {
   "cell_type": "code",
   "execution_count": 10,
   "id": "f25e488f",
   "metadata": {},
   "outputs": [
    {
     "name": "stdout",
     "output_type": "stream",
     "text": [
      "5\n"
     ]
    }
   ],
   "source": [
    "print(int(var_1st)+int(var_2nd))"
   ]
  },
  {
   "cell_type": "code",
   "execution_count": 11,
   "id": "ba6b0fca",
   "metadata": {},
   "outputs": [
    {
     "name": "stdout",
     "output_type": "stream",
     "text": [
      "5\n"
     ]
    }
   ],
   "source": [
    "print(var_1st+var_2nd)"
   ]
  },
  {
   "cell_type": "code",
   "execution_count": 12,
   "id": "0e5618d7",
   "metadata": {},
   "outputs": [
    {
     "name": "stdout",
     "output_type": "stream",
     "text": [
      "None\n"
     ]
    }
   ],
   "source": [
    "from random import shuffle\n",
    "my_list=[1,2,3,4,5,6]\n",
    "print(shuffle(my_list))"
   ]
  },
  {
   "cell_type": "code",
   "execution_count": 13,
   "id": "c1b5e565",
   "metadata": {},
   "outputs": [
    {
     "name": "stdout",
     "output_type": "stream",
     "text": [
      "[1, 2, 3, 4, 6, 5]\n"
     ]
    }
   ],
   "source": [
    "print(my_list)"
   ]
  },
  {
   "cell_type": "code",
   "execution_count": 15,
   "id": "19d2c9e0",
   "metadata": {},
   "outputs": [
    {
     "data": {
      "text/plain": [
       "67"
      ]
     },
     "execution_count": 15,
     "metadata": {},
     "output_type": "execute_result"
    }
   ],
   "source": [
    "from random import randint\n",
    "randint(0,100)"
   ]
  },
  {
   "cell_type": "code",
   "execution_count": 16,
   "id": "344aa01f",
   "metadata": {},
   "outputs": [],
   "source": [
    "mystring='rajah'"
   ]
  },
  {
   "cell_type": "code",
   "execution_count": 17,
   "id": "5ed5bc8d",
   "metadata": {},
   "outputs": [],
   "source": [
    "mylist=[]"
   ]
  },
  {
   "cell_type": "code",
   "execution_count": 18,
   "id": "3b9b441b",
   "metadata": {},
   "outputs": [],
   "source": [
    "for char in mystring:\n",
    "    mylist.append(char)"
   ]
  },
  {
   "cell_type": "code",
   "execution_count": 19,
   "id": "1f3a80c5",
   "metadata": {},
   "outputs": [
    {
     "data": {
      "text/plain": [
       "['r', 'a', 'j', 'a', 'h']"
      ]
     },
     "execution_count": 19,
     "metadata": {},
     "output_type": "execute_result"
    }
   ],
   "source": [
    "mylist"
   ]
  },
  {
   "cell_type": "code",
   "execution_count": 20,
   "id": "ab4ae44c",
   "metadata": {},
   "outputs": [],
   "source": [
    "my_new_list = [letter for letter in mystring]"
   ]
  },
  {
   "cell_type": "code",
   "execution_count": 21,
   "id": "8344d092",
   "metadata": {},
   "outputs": [
    {
     "data": {
      "text/plain": [
       "['r', 'a', 'j', 'a', 'h']"
      ]
     },
     "execution_count": 21,
     "metadata": {},
     "output_type": "execute_result"
    }
   ],
   "source": [
    "my_new_list"
   ]
  },
  {
   "cell_type": "code",
   "execution_count": 22,
   "id": "356807d5",
   "metadata": {},
   "outputs": [],
   "source": [
    "my_new_list = [letter+'2' for letter in mystring]"
   ]
  },
  {
   "cell_type": "code",
   "execution_count": 23,
   "id": "b0faa51e",
   "metadata": {},
   "outputs": [
    {
     "data": {
      "text/plain": [
       "['r2', 'a2', 'j2', 'a2', 'h2']"
      ]
     },
     "execution_count": 23,
     "metadata": {},
     "output_type": "execute_result"
    }
   ],
   "source": [
    "my_new_list"
   ]
  },
  {
   "cell_type": "code",
   "execution_count": 24,
   "id": "20ab64b8",
   "metadata": {},
   "outputs": [],
   "source": [
    "my_new_list = [letter+'2' for letter in mystring if letter!='a']"
   ]
  },
  {
   "cell_type": "code",
   "execution_count": 25,
   "id": "16a6777c",
   "metadata": {},
   "outputs": [
    {
     "data": {
      "text/plain": [
       "['r2', 'j2', 'h2']"
      ]
     },
     "execution_count": 25,
     "metadata": {},
     "output_type": "execute_result"
    }
   ],
   "source": [
    "my_new_list"
   ]
  },
  {
   "cell_type": "code",
   "execution_count": 30,
   "id": "d55a09ac",
   "metadata": {},
   "outputs": [],
   "source": [
    "celcius=[0,10,20,31.4]\n",
    "fahrenheit =[((9/5)*celci+32) for celci in celcius]"
   ]
  },
  {
   "cell_type": "code",
   "execution_count": 31,
   "id": "fad3f84f",
   "metadata": {},
   "outputs": [
    {
     "name": "stdout",
     "output_type": "stream",
     "text": [
      "[32.0, 50.0, 68.0, 88.52]\n"
     ]
    }
   ],
   "source": [
    "print(fahrenheit)"
   ]
  },
  {
   "cell_type": "code",
   "execution_count": 3,
   "id": "c184a843",
   "metadata": {},
   "outputs": [
    {
     "name": "stdout",
     "output_type": "stream",
     "text": [
      "* * * * * * * * * * "
     ]
    }
   ],
   "source": [
    "n=5\n",
    "for i in range(n):\n",
    "        print ('* ', end=\"\")"
   ]
  },
  {
   "cell_type": "code",
   "execution_count": 5,
   "id": "18e9f20c",
   "metadata": {},
   "outputs": [
    {
     "ename": "IndentationError",
     "evalue": "unindent does not match any outer indentation level (<tokenize>, line 4)",
     "output_type": "error",
     "traceback": [
      "\u001b[1;36m  File \u001b[1;32m<tokenize>:4\u001b[1;36m\u001b[0m\n\u001b[1;33m    print('')\u001b[0m\n\u001b[1;37m    ^\u001b[0m\n\u001b[1;31mIndentationError\u001b[0m\u001b[1;31m:\u001b[0m unindent does not match any outer indentation level\n"
     ]
    },
    {
     "ename": "IndentationError",
     "evalue": "unindent does not match any outer indentation level (<tokenize>, line 4)",
     "output_type": "error",
     "traceback": [
      "\u001b[1;36m  File \u001b[1;32m<tokenize>:4\u001b[1;36m\u001b[0m\n\u001b[1;33m    print('')\u001b[0m\n\u001b[1;37m    ^\u001b[0m\n\u001b[1;31mIndentationError\u001b[0m\u001b[1;31m:\u001b[0m unindent does not match any outer indentation level\n"
     ]
    }
   ],
   "source": [
    "n=5\n",
    "for i in range(n):\n",
    "        print ('* ', end=\"\")\n",
    "    print('')"
   ]
  },
  {
   "cell_type": "markdown",
   "id": "928d3896",
   "metadata": {},
   "source": [
    "n=5\n",
    "for i in range(n):\n",
    "    for j in range(i):\n",
    "        print ('* ', end=\"\")\n",
    "    print('')\n"
   ]
  },
  {
   "cell_type": "code",
   "execution_count": null,
   "id": "adbdb91d",
   "metadata": {},
   "outputs": [],
   "source": [
    "n="
   ]
  },
  {
   "cell_type": "code",
   "execution_count": null,
   "id": "79fa25af",
   "metadata": {},
   "outputs": [],
   "source": [
    "n=5\n",
    "for i in range(n):\n",
    "    for j in range(i):\n",
    "        print ('* ', end=\"\")\n",
    "    print('')"
   ]
  },
  {
   "cell_type": "code",
   "execution_count": null,
   "id": "a877f96f",
   "metadata": {},
   "outputs": [],
   "source": [
    "i=1\n",
    "while i<=5:\n",
    "print('*'*i)\n",
    "i=i+1"
   ]
  },
  {
   "cell_type": "code",
   "execution_count": null,
   "id": "def767bf",
   "metadata": {},
   "outputs": [],
   "source": [
    "i=1\n",
    "while i<=5:\n",
    "print('*'*i)\n",
    "i=i+1"
   ]
  },
  {
   "cell_type": "code",
   "execution_count": 1,
   "id": "d38007fe",
   "metadata": {},
   "outputs": [
    {
     "name": "stdout",
     "output_type": "stream",
     "text": [
      "*****"
     ]
    }
   ],
   "source": [
    "for i in range(0,5):\n",
    "    print('*',end=\"\")\n"
   ]
  },
  {
   "cell_type": "code",
   "execution_count": 2,
   "id": "f84bd76f",
   "metadata": {},
   "outputs": [
    {
     "name": "stdout",
     "output_type": "stream",
     "text": [
      "    1\n",
      "   123\n",
      "  12345\n",
      " 1234567\n",
      "123456789\n"
     ]
    }
   ],
   "source": [
    "n = 5\n",
    "for i in range(n):\n",
    "    for j in range(n - i - 1):\n",
    "        print(' ', end='')\n",
    "    for k in range(2 * i + 1):\n",
    "        print(k + 1, end='')\n",
    "    print()"
   ]
  },
  {
   "cell_type": "code",
   "execution_count": 4,
   "id": "75d9fd88",
   "metadata": {},
   "outputs": [
    {
     "name": "stdout",
     "output_type": "stream",
     "text": [
      "* \r\n",
      "* * \r\n",
      "* * * \r\n",
      "* * * * \r\n"
     ]
    }
   ],
   "source": [
    "for i in range(0,4):\n",
    "    for j in range(0,i+1):\n",
    "        print ('* ', end=\"\")\n",
    "    print('\\r')"
   ]
  },
  {
   "cell_type": "code",
   "execution_count": 5,
   "id": "c516016e",
   "metadata": {},
   "outputs": [
    {
     "name": "stdout",
     "output_type": "stream",
     "text": [
      "[0]\n",
      "[0, 1]\n",
      "[0, 1, 2]\n",
      "[0, 1, 2, 3]\n"
     ]
    }
   ],
   "source": [
    "new_list=[]\n",
    "for i in range(1,5):\n",
    "    for j in range(0,i):\n",
    "        new_list.append(j)\n",
    "    print(new_list)\n",
    "    new_list=[]"
   ]
  },
  {
   "cell_type": "code",
   "execution_count": 6,
   "id": "abb44a3c",
   "metadata": {},
   "outputs": [
    {
     "ename": "SyntaxError",
     "evalue": "invalid syntax (4003024540.py, line 6)",
     "output_type": "error",
     "traceback": [
      "\u001b[1;36m  Input \u001b[1;32mIn [6]\u001b[1;36m\u001b[0m\n\u001b[1;33m    \"\"\"function descriptional comment \"\"\"\u001b[0m\n\u001b[1;37m       ^\u001b[0m\n\u001b[1;31mSyntaxError\u001b[0m\u001b[1;31m:\u001b[0m invalid syntax\n"
     ]
    }
   ],
   "source": [
    "\"\"\"\"=>functions:\n",
    "        resusability\n",
    "        one line execution\n",
    "    \n",
    "    def name_of_function(arguments):\n",
    "        \"\"\"function descriptional comment\"\"\"\n",
    "        print(\"Hello \"+ argument)\n",
    "        \n",
    "    name_of_function(\"Rajah\")\"\"\""
   ]
  },
  {
   "cell_type": "code",
   "execution_count": 15,
   "id": "7ed4a968",
   "metadata": {},
   "outputs": [
    {
     "name": "stdout",
     "output_type": "stream",
     "text": [
      "* \r\n",
      "* * \r\n",
      "* * * \r\n",
      "* * * * \r\n",
      "* * * * * \r\n",
      "* * * * * * \r\n",
      "* * * * * * * \r\n",
      "* * * * * * * * \r\n"
     ]
    }
   ],
   "source": [
    "def pramid(n):\n",
    "    for i in range(0, n):\n",
    "        for j in range(0, i+1):\n",
    "            print('* ', end=\"\")\n",
    "        print('\\r')\n",
    "pramid(8)"
   ]
  },
  {
   "cell_type": "code",
   "execution_count": 17,
   "id": "c0bca5c9",
   "metadata": {},
   "outputs": [
    {
     "name": "stdout",
     "output_type": "stream",
     "text": [
      "* \r\n",
      "* * \r\n",
      "* * * \r\n",
      "* * * * \r\n",
      "* * * * * \r\n",
      "* * * * * * \r\n",
      "* * * * * * * \r\n",
      "* * * * * * * * \r\n"
     ]
    },
    {
     "data": {
      "text/plain": [
       "[0, 1, 2, 3, 4, 5, 6, 7]"
      ]
     },
     "execution_count": 17,
     "metadata": {},
     "output_type": "execute_result"
    }
   ],
   "source": [
    "def pramid(n):\n",
    "    new_list=[]\n",
    "    for i in range(0, n):\n",
    "        for j in range(0, i+1):\n",
    "            print('* ', end=\"\")\n",
    "        print('\\r')\n",
    "        new_list.append(i)\n",
    "    return new_list\n",
    "pramid(8)"
   ]
  },
  {
   "cell_type": "code",
   "execution_count": 35,
   "id": "9e4e9790",
   "metadata": {},
   "outputs": [
    {
     "name": "stdout",
     "output_type": "stream",
     "text": [
      "pls provide your name:Rachana\n"
     ]
    },
    {
     "data": {
      "text/plain": [
       "'Hi Rachana'"
      ]
     },
     "execution_count": 35,
     "metadata": {},
     "output_type": "execute_result"
    }
   ],
   "source": [
    "def hi():\n",
    "    v=input('pls provide your name:')\n",
    "    return (\"Hi \"+v)\n",
    "hi()"
   ]
  },
  {
   "cell_type": "code",
   "execution_count": 36,
   "id": "23f427bb",
   "metadata": {},
   "outputs": [
    {
     "name": "stdout",
     "output_type": "stream",
     "text": [
      "pls provide your name:Rachana\n"
     ]
    },
    {
     "data": {
      "text/plain": [
       "'Hi Rachana'"
      ]
     },
     "execution_count": 36,
     "metadata": {},
     "output_type": "execute_result"
    }
   ],
   "source": [
    "hi()"
   ]
  },
  {
   "cell_type": "code",
   "execution_count": 46,
   "id": "ac7e6b2d",
   "metadata": {},
   "outputs": [
    {
     "name": "stdout",
     "output_type": "stream",
     "text": [
      "Give me your name : Mr.Potter\n"
     ]
    },
    {
     "data": {
      "text/plain": [
       "'Hi Mr.Potter'"
      ]
     },
     "execution_count": 46,
     "metadata": {},
     "output_type": "execute_result"
    }
   ],
   "source": [
    "name=input('Give me your name : ')\n",
    "\n",
    "def greeting(name_):\n",
    "    return(f'Hi {name_}')\n",
    "\n",
    "greeting(name)"
   ]
  },
  {
   "cell_type": "code",
   "execution_count": 40,
   "id": "bc679814",
   "metadata": {},
   "outputs": [
    {
     "name": "stdout",
     "output_type": "stream",
     "text": [
      "Give me your name : harry\n"
     ]
    },
    {
     "data": {
      "text/plain": [
       "'Hi harry'"
      ]
     },
     "execution_count": 40,
     "metadata": {},
     "output_type": "execute_result"
    }
   ],
   "source": [
    "def greeting():\n",
    "    name=input('Give me your name : ')\n",
    "    return(f'Hi {name}')\n",
    "greeting()"
   ]
  },
  {
   "cell_type": "code",
   "execution_count": 41,
   "id": "51e8aaac",
   "metadata": {},
   "outputs": [
    {
     "data": {
      "text/plain": [
       "'Hi default_name'"
      ]
     },
     "execution_count": 41,
     "metadata": {},
     "output_type": "execute_result"
    }
   ],
   "source": [
    "def greeting(name=\"default_name\"):\n",
    "    return(f'Hi {name}')\n",
    "greeting()"
   ]
  },
  {
   "cell_type": "code",
   "execution_count": 45,
   "id": "77f0fdd2",
   "metadata": {},
   "outputs": [
    {
     "name": "stdout",
     "output_type": "stream",
     "text": [
      "Please give me the first no:23\n",
      "Please give me the second no:45\n",
      "The total value is: 68\n"
     ]
    },
    {
     "data": {
      "text/plain": [
       "'The total value is: 68'"
      ]
     },
     "execution_count": 45,
     "metadata": {},
     "output_type": "execute_result"
    }
   ],
   "source": [
    "def num():\n",
    "    var1=int(input('Please give me the first no:'))\n",
    "    var2=int(input('Please give me the second no:'))\n",
    "    total=var1+var2\n",
    "    print(f'The total value is: {total}')\n",
    "    return (f'The total value is: {total}')\n",
    "num()"
   ]
  },
  {
   "cell_type": "code",
   "execution_count": 48,
   "id": "9715572f",
   "metadata": {},
   "outputs": [
    {
     "name": "stdout",
     "output_type": "stream",
     "text": [
      "Please give me the first no:12\n",
      "Please give me the second no:23\n"
     ]
    },
    {
     "data": {
      "text/plain": [
       "35"
      ]
     },
     "execution_count": 48,
     "metadata": {},
     "output_type": "execute_result"
    }
   ],
   "source": [
    "first_num=int(input('Please give me the first no:'))\n",
    "second_num=int(input('Please give me the second no:'))\n",
    "\n",
    "def sum(first, sec=0):\n",
    "    total=first+sec\n",
    "    return total\n",
    "sum(first_num,second_num)"
   ]
  },
  {
   "cell_type": "code",
   "execution_count": 49,
   "id": "e8bdfc49",
   "metadata": {},
   "outputs": [
    {
     "data": {
      "text/plain": [
       "12"
      ]
     },
     "execution_count": 49,
     "metadata": {},
     "output_type": "execute_result"
    }
   ],
   "source": [
    "sum(first_num)"
   ]
  },
  {
   "cell_type": "code",
   "execution_count": 3,
   "id": "b2567bd7",
   "metadata": {},
   "outputs": [
    {
     "name": "stdout",
     "output_type": "stream",
     "text": [
      "Please provide the  no:8\n",
      "True\n"
     ]
    },
    {
     "data": {
      "text/plain": [
       "True"
      ]
     },
     "execution_count": 3,
     "metadata": {},
     "output_type": "execute_result"
    }
   ],
   "source": [
    "def check_even():\n",
    "    mod=0\n",
    "    no=int(input('Please provide the  no:' ))\n",
    "    mod=no%2\n",
    "    if(mod==0):\n",
    "        print('True')\n",
    "        return True\n",
    "    else:\n",
    "        print('False')\n",
    "        return False\n",
    "check_even()"
   ]
  },
  {
   "cell_type": "code",
   "execution_count": 13,
   "id": "6e07059a",
   "metadata": {},
   "outputs": [
    {
     "name": "stdout",
     "output_type": "stream",
     "text": [
      "True\n"
     ]
    },
    {
     "data": {
      "text/plain": [
       "True"
      ]
     },
     "execution_count": 13,
     "metadata": {},
     "output_type": "execute_result"
    }
   ],
   "source": [
    "new_list=[1,0,5,7]\n",
    "def even_no():\n",
    "        for num in new_list:\n",
    "            mod=num%2\n",
    "            if(mod==0):\n",
    "                print('True')\n",
    "                return True\n",
    "        \n",
    "even_no()"
   ]
  },
  {
   "cell_type": "code",
   "execution_count": 17,
   "id": "fe5c6c58",
   "metadata": {},
   "outputs": [
    {
     "name": "stdout",
     "output_type": "stream",
     "text": [
      "True\n"
     ]
    },
    {
     "data": {
      "text/plain": [
       "True"
      ]
     },
     "execution_count": 17,
     "metadata": {},
     "output_type": "execute_result"
    }
   ],
   "source": [
    "def even_no():\n",
    "        for num in new_list:\n",
    "            mod=num%2\n",
    "            if(mod==0):\n",
    "                print('True')\n",
    "                return True\n",
    "        return False\n",
    "        \n",
    "even_no()"
   ]
  },
  {
   "cell_type": "code",
   "execution_count": 34,
   "id": "76674046",
   "metadata": {},
   "outputs": [
    {
     "data": {
      "text/plain": [
       "[8, 6]"
      ]
     },
     "execution_count": 34,
     "metadata": {},
     "output_type": "execute_result"
    }
   ],
   "source": [
    "new_list=[1,9,5,8,6,7]\n",
    "\n",
    "def check_return_even():\n",
    "    even_no_list=[]\n",
    "    for i in new_list:\n",
    "        if i%2==0:\n",
    "            even_no_list.append(i)\n",
    "    return even_no_list\n",
    "\n",
    "check_return_even()"
   ]
  },
  {
   "cell_type": "code",
   "execution_count": 7,
   "id": "40f2261d",
   "metadata": {},
   "outputs": [
    {
     "data": {
      "text/plain": [
       "['rajah', 'rani', 'ravi']"
      ]
     },
     "execution_count": 7,
     "metadata": {},
     "output_type": "execute_result"
    }
   ],
   "source": [
    "name_list=['rajah','rani','kamal','bavi','ravi']\n",
    "def name_check(name):\n",
    "    check_bool=name[0]=='r'\n",
    "    return check_bool\n",
    "list(filter(name_check,name_list))"
   ]
  },
  {
   "cell_type": "code",
   "execution_count": 14,
   "id": "a6ab9832",
   "metadata": {},
   "outputs": [],
   "source": [
    "num_list=[1,2,3,4,5,6]"
   ]
  },
  {
   "cell_type": "code",
   "execution_count": 10,
   "id": "7e1866b5",
   "metadata": {},
   "outputs": [
    {
     "data": {
      "text/plain": [
       "['rani', 'bavi', 'ravi']"
      ]
     },
     "execution_count": 10,
     "metadata": {},
     "output_type": "execute_result"
    }
   ],
   "source": [
    "def name_check(name):\n",
    "    check_bool=name[-1]=='i'\n",
    "    return check_bool\n",
    "list(filter(name_check,name_list))"
   ]
  },
  {
   "cell_type": "code",
   "execution_count": 15,
   "id": "c30aae4e",
   "metadata": {},
   "outputs": [
    {
     "data": {
      "text/plain": [
       "[1, 8, 27, 64, 125, 216]"
      ]
     },
     "execution_count": 15,
     "metadata": {},
     "output_type": "execute_result"
    }
   ],
   "source": [
    "def to_cube(num):\n",
    "    return num**3\n",
    "list(map(to_cube,num_list))"
   ]
  },
  {
   "cell_type": "code",
   "execution_count": 16,
   "id": "d18657b5",
   "metadata": {},
   "outputs": [
    {
     "data": {
      "text/plain": [
       "[1, 4, 9, 16, 25, 36]"
      ]
     },
     "execution_count": 16,
     "metadata": {},
     "output_type": "execute_result"
    }
   ],
   "source": [
    "def to_cube(num):\n",
    "    return num**2\n",
    "list(map(to_cube,num_list))"
   ]
  },
  {
   "cell_type": "code",
   "execution_count": 18,
   "id": "d8f31673",
   "metadata": {},
   "outputs": [],
   "source": [
    "cube=lambda num:num**3"
   ]
  },
  {
   "cell_type": "code",
   "execution_count": 19,
   "id": "66b3090e",
   "metadata": {},
   "outputs": [
    {
     "data": {
      "text/plain": [
       "125"
      ]
     },
     "execution_count": 19,
     "metadata": {},
     "output_type": "execute_result"
    }
   ],
   "source": [
    "cube(5)"
   ]
  },
  {
   "cell_type": "code",
   "execution_count": 22,
   "id": "b1b68078",
   "metadata": {},
   "outputs": [],
   "source": [
    "v=lambda x:(x+10)/5"
   ]
  },
  {
   "cell_type": "code",
   "execution_count": 23,
   "id": "28ea5297",
   "metadata": {},
   "outputs": [
    {
     "data": {
      "text/plain": [
       "3.0"
      ]
     },
     "execution_count": 23,
     "metadata": {},
     "output_type": "execute_result"
    }
   ],
   "source": [
    "v(5)"
   ]
  },
  {
   "cell_type": "code",
   "execution_count": 24,
   "id": "e510cdfd",
   "metadata": {},
   "outputs": [
    {
     "data": {
      "text/plain": [
       "[1, 8, 27, 64, 125, 216]"
      ]
     },
     "execution_count": 24,
     "metadata": {},
     "output_type": "execute_result"
    }
   ],
   "source": [
    "list(map(lambda num:num**3,num_list))"
   ]
  },
  {
   "cell_type": "code",
   "execution_count": 26,
   "id": "60e82fe6",
   "metadata": {},
   "outputs": [],
   "source": [
    "name_list=['rajah','rani','kamal','bavi','ravi']"
   ]
  },
  {
   "cell_type": "code",
   "execution_count": 30,
   "id": "044d7a8f",
   "metadata": {},
   "outputs": [
    {
     "data": {
      "text/plain": [
       "['Rajah', 'Rani', 'Kamal', 'Bavi', 'Ravi']"
      ]
     },
     "execution_count": 30,
     "metadata": {},
     "output_type": "execute_result"
    }
   ],
   "source": [
    "list(map(lambda s:s.capitalize(),name_list))"
   ]
  },
  {
   "cell_type": "code",
   "execution_count": 31,
   "id": "ccb34893",
   "metadata": {},
   "outputs": [
    {
     "data": {
      "text/plain": [
       "['Rajah', 'Rani', 'Kamal', 'Bavi', 'Ravi']"
      ]
     },
     "execution_count": 31,
     "metadata": {},
     "output_type": "execute_result"
    }
   ],
   "source": [
    "list(map(lambda s:s.title(),name_list))"
   ]
  },
  {
   "cell_type": "code",
   "execution_count": 32,
   "id": "8d06ecce",
   "metadata": {},
   "outputs": [],
   "source": [
    "x=25\n",
    "def printer():\n",
    "    x=50\n",
    "    return x"
   ]
  },
  {
   "cell_type": "code",
   "execution_count": 33,
   "id": "219dc409",
   "metadata": {},
   "outputs": [
    {
     "name": "stdout",
     "output_type": "stream",
     "text": [
      "25\n"
     ]
    }
   ],
   "source": [
    "print(x)"
   ]
  },
  {
   "cell_type": "code",
   "execution_count": 34,
   "id": "92c8aa87",
   "metadata": {},
   "outputs": [
    {
     "data": {
      "text/plain": [
       "50"
      ]
     },
     "execution_count": 34,
     "metadata": {},
     "output_type": "execute_result"
    }
   ],
   "source": [
    "printer()"
   ]
  },
  {
   "cell_type": "code",
   "execution_count": 2,
   "id": "3695aa52",
   "metadata": {},
   "outputs": [
    {
     "name": "stdout",
     "output_type": "stream",
     "text": [
      "Hello Kavi\n"
     ]
    }
   ],
   "source": [
    "name='This is a global string'\n",
    "def greet():\n",
    "    name='Sammy'\n",
    "    def hello(name):\n",
    "        print('Hello '+name)\n",
    "    hello('Kavi')\n",
    "greet()"
   ]
  },
  {
   "cell_type": "code",
   "execution_count": 2,
   "id": "a9ae1360",
   "metadata": {},
   "outputs": [],
   "source": [
    "st = 'Print only the words that start with skk ins this sentence'"
   ]
  },
  {
   "cell_type": "code",
   "execution_count": 3,
   "id": "12a4765a",
   "metadata": {},
   "outputs": [
    {
     "data": {
      "text/plain": [
       "['Print only the wor', 's that start with skk ins this sentence']"
      ]
     },
     "execution_count": 3,
     "metadata": {},
     "output_type": "execute_result"
    }
   ],
   "source": [
    "st.split('d')"
   ]
  },
  {
   "cell_type": "code",
   "execution_count": 4,
   "id": "7c0a1a68",
   "metadata": {},
   "outputs": [
    {
     "data": {
      "text/plain": [
       "['Print',\n",
       " 'only',\n",
       " 'the',\n",
       " 'words',\n",
       " 'that',\n",
       " 'start',\n",
       " 'with',\n",
       " 'skk',\n",
       " 'ins',\n",
       " 'this',\n",
       " 'sentence']"
      ]
     },
     "execution_count": 4,
     "metadata": {},
     "output_type": "execute_result"
    }
   ],
   "source": [
    "st.split(' ')"
   ]
  },
  {
   "cell_type": "code",
   "execution_count": 5,
   "id": "21eeb325",
   "metadata": {},
   "outputs": [
    {
     "data": {
      "text/plain": [
       "['Print',\n",
       " 'only',\n",
       " 'the',\n",
       " 'words',\n",
       " 'that',\n",
       " 'start',\n",
       " 'with',\n",
       " 'skk',\n",
       " 'ins',\n",
       " 'this',\n",
       " 'sentence']"
      ]
     },
     "execution_count": 5,
     "metadata": {},
     "output_type": "execute_result"
    }
   ],
   "source": [
    "st.split()"
   ]
  },
  {
   "cell_type": "code",
   "execution_count": 6,
   "id": "5f407e16",
   "metadata": {},
   "outputs": [
    {
     "name": "stdout",
     "output_type": "stream",
     "text": [
      "ins\n"
     ]
    }
   ],
   "source": [
    "for a in st.split(' '):\n",
    "    if a[2] == 's':\n",
    "        print(a)"
   ]
  },
  {
   "cell_type": "code",
   "execution_count": 16,
   "id": "70127783",
   "metadata": {},
   "outputs": [],
   "source": [
    "fruit_str = 'apple,banana,orange and grapes'"
   ]
  },
  {
   "cell_type": "code",
   "execution_count": 18,
   "id": "afdc6b2b",
   "metadata": {},
   "outputs": [
    {
     "ename": "SyntaxError",
     "evalue": "invalid syntax (1313985232.py, line 1)",
     "output_type": "error",
     "traceback": [
      "\u001b[1;36m  Input \u001b[1;32mIn [18]\u001b[1;36m\u001b[0m\n\u001b[1;33m    for a in fruit_str.split()\u001b[0m\n\u001b[1;37m                              ^\u001b[0m\n\u001b[1;31mSyntaxError\u001b[0m\u001b[1;31m:\u001b[0m invalid syntax\n"
     ]
    }
   ],
   "source": [
    "for a in fruit_str.split()\n",
    "    if a[2] != orange\n",
    "        print('my favourite fruit is: ')"
   ]
  },
  {
   "cell_type": "code",
   "execution_count": 20,
   "id": "35e5c39e",
   "metadata": {},
   "outputs": [
    {
     "name": "stdout",
     "output_type": "stream",
     "text": [
      "My favourit fruit is+ s\n"
     ]
    }
   ],
   "source": [
    "for x in fruit_str:\n",
    "    if x == 'Orange':\n",
    "        continue\n",
    "print(f'My favourit fruit is+ {x}')"
   ]
  },
  {
   "cell_type": "code",
   "execution_count": 21,
   "id": "df3f81d9",
   "metadata": {},
   "outputs": [],
   "source": [
    "fruit_str = 'apple,banana,orange and grapes'"
   ]
  },
  {
   "cell_type": "code",
   "execution_count": 22,
   "id": "861bc836",
   "metadata": {},
   "outputs": [
    {
     "name": "stdout",
     "output_type": "stream",
     "text": [
      "apple\n",
      "banana\n",
      "orange and grapes\n"
     ]
    }
   ],
   "source": [
    "for fruit in fruit_str.split(','):\n",
    "    print (fruit)"
   ]
  },
  {
   "cell_type": "code",
   "execution_count": 23,
   "id": "03862aee",
   "metadata": {},
   "outputs": [
    {
     "name": "stdout",
     "output_type": "stream",
     "text": [
      "My favourit fruit is apple\n",
      "My favourit fruit is orange\n",
      "My favourit fruit is grapes\n"
     ]
    }
   ],
   "source": [
    "for fruit in fruit_str.split(','):\n",
    "    if ' and ' in fruit:\n",
    "        for fr in fruit.split(' and '):\n",
    "            if fr!='banana':\n",
    "                print(f'My favourit fruit is {fr}')\n",
    "    else:\n",
    "        if fruit!='banana':\n",
    "                print(f'My favourit fruit is {fruit}')\n",
    "        "
   ]
  },
  {
   "cell_type": "code",
   "execution_count": 24,
   "id": "ebf243a1",
   "metadata": {},
   "outputs": [
    {
     "data": {
      "text/plain": [
       "range(10, 21, 3)"
      ]
     },
     "execution_count": 24,
     "metadata": {},
     "output_type": "execute_result"
    }
   ],
   "source": [
    "range(10,21,3)"
   ]
  },
  {
   "cell_type": "code",
   "execution_count": 25,
   "id": "7a48a973",
   "metadata": {},
   "outputs": [],
   "source": [
    "new_list = []\n",
    "for list_item in range(10, 21, 2):\n",
    "    new_list.append(list_item)"
   ]
  },
  {
   "cell_type": "code",
   "execution_count": 26,
   "id": "5589f884",
   "metadata": {},
   "outputs": [
    {
     "data": {
      "text/plain": [
       "[10, 12, 14, 16, 18, 20]"
      ]
     },
     "execution_count": 26,
     "metadata": {},
     "output_type": "execute_result"
    }
   ],
   "source": [
    "new_list"
   ]
  },
  {
   "cell_type": "code",
   "execution_count": 27,
   "id": "e2c5d6d2",
   "metadata": {},
   "outputs": [
    {
     "data": {
      "text/plain": [
       "range(10, 21, 3)"
      ]
     },
     "execution_count": 27,
     "metadata": {},
     "output_type": "execute_result"
    }
   ],
   "source": [
    "range(10, 21, 3)"
   ]
  },
  {
   "cell_type": "code",
   "execution_count": 28,
   "id": "8c085bd1",
   "metadata": {},
   "outputs": [
    {
     "data": {
      "text/plain": [
       "[10, 13, 16, 19]"
      ]
     },
     "execution_count": 28,
     "metadata": {},
     "output_type": "execute_result"
    }
   ],
   "source": [
    "list(range(10, 21, 3))"
   ]
  },
  {
   "cell_type": "code",
   "execution_count": 29,
   "id": "3a6ff866",
   "metadata": {},
   "outputs": [],
   "source": [
    "def lesser_in_2_num(a,b):\n",
    "    if a%2==0 and b%2==0:\n",
    "        return min(a,b)\n",
    "    else:\n",
    "        return max(a,b)"
   ]
  },
  {
   "cell_type": "code",
   "execution_count": 30,
   "id": "4b0e243b",
   "metadata": {},
   "outputs": [
    {
     "data": {
      "text/plain": [
       "5"
      ]
     },
     "execution_count": 30,
     "metadata": {},
     "output_type": "execute_result"
    }
   ],
   "source": [
    "lesser_in_2_num(2,5)"
   ]
  },
  {
   "cell_type": "code",
   "execution_count": 31,
   "id": "71a62c5a",
   "metadata": {},
   "outputs": [
    {
     "data": {
      "text/plain": [
       "9"
      ]
     },
     "execution_count": 31,
     "metadata": {},
     "output_type": "execute_result"
    }
   ],
   "source": [
    "lesser_in_2_num(9,5)"
   ]
  },
  {
   "cell_type": "code",
   "execution_count": 32,
   "id": "0c7a08d2",
   "metadata": {},
   "outputs": [],
   "source": [
    "def lesser_of_two_evens(num1,num2):\n",
    "    if (num1 % 2 and num2 % 2) != 0:\n",
    "        if num2 > num1:\n",
    "            print(num2)\n",
    "        if num1 > num2:\n",
    "            print(num1)    \n",
    "    elif (num1 % 2 and num2 % 2) == 0:\n",
    "        if num1 < num2:\n",
    "            print(num1)\n",
    "        else:\n",
    "            print(num2)    \n",
    "    pass"
   ]
  },
  {
   "cell_type": "code",
   "execution_count": 33,
   "id": "73de422b",
   "metadata": {},
   "outputs": [
    {
     "name": "stdout",
     "output_type": "stream",
     "text": [
      "2\n"
     ]
    }
   ],
   "source": [
    "lesser_of_two_evens(2,6)"
   ]
  },
  {
   "cell_type": "code",
   "execution_count": 34,
   "id": "3c42bbf3",
   "metadata": {},
   "outputs": [],
   "source": [
    "square = lambda num:num**2"
   ]
  },
  {
   "cell_type": "code",
   "execution_count": 35,
   "id": "44f525df",
   "metadata": {},
   "outputs": [
    {
     "data": {
      "text/plain": [
       "25"
      ]
     },
     "execution_count": 35,
     "metadata": {},
     "output_type": "execute_result"
    }
   ],
   "source": [
    "square(5)"
   ]
  },
  {
   "cell_type": "code",
   "execution_count": 36,
   "id": "191de226",
   "metadata": {},
   "outputs": [
    {
     "data": {
      "text/plain": [
       "[1, 4, 9, 16, 25]"
      ]
     },
     "execution_count": 36,
     "metadata": {},
     "output_type": "execute_result"
    }
   ],
   "source": [
    "mynums = [1,2,3,4,5]\n",
    "list(map(square,mynums))"
   ]
  },
  {
   "cell_type": "code",
   "execution_count": 37,
   "id": "c66415aa",
   "metadata": {},
   "outputs": [],
   "source": [
    "def myfunc_add(a,b,c,d):\n",
    "    print(a)\n",
    "    print(b)\n",
    "    print(c)\n",
    "    print(d)\n",
    "    tuple_add = (a,b,c,d)\n",
    "    add = sum(tuple_add)\n",
    "    return add"
   ]
  },
  {
   "cell_type": "code",
   "execution_count": 38,
   "id": "52d5e4b6",
   "metadata": {},
   "outputs": [
    {
     "name": "stdout",
     "output_type": "stream",
     "text": [
      "5\n",
      "2\n",
      "3\n",
      "6\n"
     ]
    },
    {
     "data": {
      "text/plain": [
       "16"
      ]
     },
     "execution_count": 38,
     "metadata": {},
     "output_type": "execute_result"
    }
   ],
   "source": [
    "myfunc_add(5,2,3,6)"
   ]
  },
  {
   "cell_type": "code",
   "execution_count": 39,
   "id": "2c75eb0d",
   "metadata": {},
   "outputs": [],
   "source": [
    "def myfunc(*args):\n",
    "    print(args)\n",
    "    add = sum(args)\n",
    "    return add"
   ]
  },
  {
   "cell_type": "code",
   "execution_count": 40,
   "id": "8a87ba06",
   "metadata": {},
   "outputs": [
    {
     "name": "stdout",
     "output_type": "stream",
     "text": [
      "(40, 60, 70, 90, 10)\n"
     ]
    },
    {
     "data": {
      "text/plain": [
       "270"
      ]
     },
     "execution_count": 40,
     "metadata": {},
     "output_type": "execute_result"
    }
   ],
   "source": [
    "myfunc(40,60,70,90,10)"
   ]
  },
  {
   "cell_type": "code",
   "execution_count": 41,
   "id": "c625fd0d",
   "metadata": {},
   "outputs": [],
   "source": [
    "def myfunc_dic(**kwargs):\n",
    "    print(kwargs)\n",
    "    if 'fruit'in kwargs:\n",
    "        print('My fruit of choice is {}'.format(kwargs['fruit']))\n",
    "    else:\n",
    "        print('I did not find any fruits here')"
   ]
  },
  {
   "cell_type": "code",
   "execution_count": 42,
   "id": "8eaad303",
   "metadata": {},
   "outputs": [
    {
     "name": "stdout",
     "output_type": "stream",
     "text": [
      "{'fruit': 'apple', 'veggie': 'carrot'}\n",
      "My fruit of choice is apple\n"
     ]
    }
   ],
   "source": [
    "myfunc_dic(fruit='apple',veggie='carrot')"
   ]
  },
  {
   "cell_type": "code",
   "execution_count": 2,
   "id": "f9dee9cd",
   "metadata": {},
   "outputs": [
    {
     "ename": "NameError",
     "evalue": "name 'mydetail' is not defined",
     "output_type": "error",
     "traceback": [
      "\u001b[1;31m---------------------------------------------------------------------------\u001b[0m",
      "\u001b[1;31mNameError\u001b[0m                                 Traceback (most recent call last)",
      "Input \u001b[1;32mIn [2]\u001b[0m, in \u001b[0;36m<cell line: 1>\u001b[1;34m()\u001b[0m\n\u001b[1;32m----> 1\u001b[0m \u001b[43mmydetail\u001b[49m(name\u001b[38;5;241m=\u001b[39m\u001b[38;5;124m'\u001b[39m\u001b[38;5;124mKavi\u001b[39m\u001b[38;5;124m'\u001b[39m,age\u001b[38;5;241m=\u001b[39m\u001b[38;5;124m'\u001b[39m\u001b[38;5;124m29\u001b[39m\u001b[38;5;124m'\u001b[39m,town\u001b[38;5;241m=\u001b[39m\u001b[38;5;124m'\u001b[39m\u001b[38;5;124mBatti\u001b[39m\u001b[38;5;124m'\u001b[39m)\n",
      "\u001b[1;31mNameError\u001b[0m: name 'mydetail' is not defined"
     ]
    }
   ],
   "source": [
    "mydetail(name='Kavi',age='29',town='Batti')"
   ]
  },
  {
   "cell_type": "code",
   "execution_count": 45,
   "id": "4657c41e",
   "metadata": {},
   "outputs": [],
   "source": [
    "def myfunc_dic(**kwargs):\n",
    "    if 'name' in kwargs:\n",
    "        print('My name is {}'.format(kwargs['name']))\n",
    "    elif 'age' in kwargs:\n",
    "        print('My age is {}'.format(kwargs['age']))\n",
    "    elif 'town' in kwargs:\n",
    "        print('My town is {}'.format(kwargs['town']))\n",
    "    else:\n",
    "        print('I did not find')"
   ]
  },
  {
   "cell_type": "code",
   "execution_count": 46,
   "id": "0006ed14",
   "metadata": {},
   "outputs": [
    {
     "name": "stdout",
     "output_type": "stream",
     "text": [
      "My name is Kavi\n"
     ]
    }
   ],
   "source": [
    "myfunc_dic(name='Kavi',age='29',town='Batti')"
   ]
  },
  {
   "cell_type": "code",
   "execution_count": 47,
   "id": "5abc46ba",
   "metadata": {},
   "outputs": [],
   "source": [
    "def mydetail(**kwargs):\n",
    "    print(kwargs)\n",
    "    print ('My name is {} , age is {} and i\\'m from {}'.format(kwargs['name'],kwargs['age'],kwargs['town']))"
   ]
  },
  {
   "cell_type": "code",
   "execution_count": 48,
   "id": "32b9184a",
   "metadata": {},
   "outputs": [
    {
     "name": "stdout",
     "output_type": "stream",
     "text": [
      "{'name': 'Kavi', 'age': '29', 'town': 'Batti'}\n",
      "My name is Kavi , age is 29 and i'm from Batti\n"
     ]
    }
   ],
   "source": [
    "mydetail(name='Kavi',age='29',town='Batti')"
   ]
  },
  {
   "cell_type": "code",
   "execution_count": 49,
   "id": "6e19b8aa",
   "metadata": {},
   "outputs": [],
   "source": [
    "def myfunc_(*args, **kwargs):\n",
    "    print(kwargs)\n",
    "    print(args)\n",
    "    print('I would like {} {}'.format(args[0],kwargs['fruit']))"
   ]
  },
  {
   "cell_type": "code",
   "execution_count": 50,
   "id": "d45e2977",
   "metadata": {},
   "outputs": [
    {
     "name": "stdout",
     "output_type": "stream",
     "text": [
      "{'fruit': 'orange', 'animal': 'cat', 'food': 'thosai'}\n",
      "(10, 20, 30)\n",
      "I would like 10 orange\n"
     ]
    }
   ],
   "source": [
    "myfunc_(10,20,30,fruit='orange', animal='cat', food='thosai')"
   ]
  },
  {
   "cell_type": "code",
   "execution_count": 51,
   "id": "99027cb4",
   "metadata": {},
   "outputs": [],
   "source": [
    "def marks_detail(*args,**kwargs):\n",
    "    print(kwargs)\n",
    "    print(args)\n",
    "    print('{} got {} at {}. and he is {} studying at {}'.format(kwargs['names'][0],args[0],kwargs['subject'],kwargs['age'],kwargs['school']))"
   ]
  },
  {
   "cell_type": "code",
   "execution_count": 52,
   "id": "35864a93",
   "metadata": {},
   "outputs": [
    {
     "name": "stdout",
     "output_type": "stream",
     "text": [
      "{'names': ['rajah', 'rani', 'kamal'], 'age': 14, 'school': 'rarar', 'subject': 'Maths'}\n",
      "(85, 35, 92)\n",
      "rajah got 85 at Maths. and he is 14 studying at rarar\n"
     ]
    }
   ],
   "source": [
    "marks_detail(85,35,92, names=['rajah', 'rani', 'kamal'], age=14, school='rarar', subject='Maths')"
   ]
  },
  {
   "cell_type": "code",
   "execution_count": 53,
   "id": "122245c4",
   "metadata": {},
   "outputs": [],
   "source": [
    "def square(n):\n",
    "    return n**2"
   ]
  },
  {
   "cell_type": "code",
   "execution_count": 54,
   "id": "026aeb0d",
   "metadata": {},
   "outputs": [
    {
     "data": {
      "text/plain": [
       "25"
      ]
     },
     "execution_count": 54,
     "metadata": {},
     "output_type": "execute_result"
    }
   ],
   "source": [
    "square(5)"
   ]
  },
  {
   "cell_type": "code",
   "execution_count": 55,
   "id": "d0594fb9",
   "metadata": {},
   "outputs": [],
   "source": [
    "num_list = [1,3,4,6]\n",
    "new_list = []\n",
    "for num in num_list:\n",
    "    new_list.append(square(num))"
   ]
  },
  {
   "cell_type": "code",
   "execution_count": 56,
   "id": "0bdc7000",
   "metadata": {},
   "outputs": [
    {
     "data": {
      "text/plain": [
       "[1, 9, 16, 36]"
      ]
     },
     "execution_count": 56,
     "metadata": {},
     "output_type": "execute_result"
    }
   ],
   "source": [
    "new_list"
   ]
  },
  {
   "cell_type": "code",
   "execution_count": 57,
   "id": "220390ae",
   "metadata": {},
   "outputs": [
    {
     "data": {
      "text/plain": [
       "[1, 9, 16, 36]"
      ]
     },
     "execution_count": 57,
     "metadata": {},
     "output_type": "execute_result"
    }
   ],
   "source": [
    "list(map(square, num_list))"
   ]
  },
  {
   "cell_type": "code",
   "execution_count": 58,
   "id": "8ee83aa9",
   "metadata": {},
   "outputs": [],
   "source": [
    "def add(a,b):\n",
    "    return a+b"
   ]
  },
  {
   "cell_type": "code",
   "execution_count": 59,
   "id": "763be926",
   "metadata": {},
   "outputs": [],
   "source": [
    "def initial_cappital(name):\n",
    "    return name.capitalize()"
   ]
  },
  {
   "cell_type": "code",
   "execution_count": 60,
   "id": "2d0ee9ea",
   "metadata": {},
   "outputs": [],
   "source": [
    "name_list = ['rajah', 'rani', 'kamal']"
   ]
  },
  {
   "cell_type": "code",
   "execution_count": 61,
   "id": "f7ddbebd",
   "metadata": {},
   "outputs": [
    {
     "data": {
      "text/plain": [
       "['Rajah', 'Rani', 'Kamal']"
      ]
     },
     "execution_count": 61,
     "metadata": {},
     "output_type": "execute_result"
    }
   ],
   "source": [
    "list(map(initial_cappital, name_list))"
   ]
  },
  {
   "cell_type": "code",
   "execution_count": 62,
   "id": "f8b2f5ff",
   "metadata": {},
   "outputs": [],
   "source": [
    "def all_capital(name):\n",
    "    return name.upper()"
   ]
  },
  {
   "cell_type": "code",
   "execution_count": 63,
   "id": "4773f6f0",
   "metadata": {},
   "outputs": [
    {
     "data": {
      "text/plain": [
       "['RAJAH', 'RANI', 'KAMAL']"
      ]
     },
     "execution_count": 63,
     "metadata": {},
     "output_type": "execute_result"
    }
   ],
   "source": [
    "list(map(all_capital, name_list))"
   ]
  },
  {
   "cell_type": "code",
   "execution_count": 64,
   "id": "6e4ecbbb",
   "metadata": {},
   "outputs": [],
   "source": [
    "def check_even(num):\n",
    "    return num%2==0"
   ]
  },
  {
   "cell_type": "code",
   "execution_count": 65,
   "id": "f860c68d",
   "metadata": {},
   "outputs": [],
   "source": [
    "my_nums = [1,3,5,8,6,9]"
   ]
  },
  {
   "cell_type": "code",
   "execution_count": 66,
   "id": "378a3b07",
   "metadata": {},
   "outputs": [
    {
     "data": {
      "text/plain": [
       "<filter at 0x64ca0b8>"
      ]
     },
     "execution_count": 66,
     "metadata": {},
     "output_type": "execute_result"
    }
   ],
   "source": [
    "filter(check_even, my_nums)"
   ]
  },
  {
   "cell_type": "code",
   "execution_count": 67,
   "id": "68597ee3",
   "metadata": {},
   "outputs": [
    {
     "data": {
      "text/plain": [
       "[8, 6]"
      ]
     },
     "execution_count": 67,
     "metadata": {},
     "output_type": "execute_result"
    }
   ],
   "source": [
    "list(filter(check_even, my_nums))"
   ]
  },
  {
   "cell_type": "code",
   "execution_count": 68,
   "id": "3c46863a",
   "metadata": {},
   "outputs": [],
   "source": [
    "def check_odd(num):\n",
    "    check_bool = num%2==1\n",
    "    return check_bool"
   ]
  },
  {
   "cell_type": "code",
   "execution_count": 69,
   "id": "61464ca6",
   "metadata": {},
   "outputs": [
    {
     "data": {
      "text/plain": [
       "[1, 3, 5, 9]"
      ]
     },
     "execution_count": 69,
     "metadata": {},
     "output_type": "execute_result"
    }
   ],
   "source": [
    "list(filter(check_odd, my_nums))"
   ]
  },
  {
   "cell_type": "code",
   "execution_count": 70,
   "id": "27e29bd9",
   "metadata": {},
   "outputs": [],
   "source": [
    "name_list = ['rajah', 'rani', 'kamal', 'bavi', 'ravi']"
   ]
  },
  {
   "cell_type": "code",
   "execution_count": 71,
   "id": "480aa47d",
   "metadata": {},
   "outputs": [
    {
     "data": {
      "text/plain": [
       "['rajah', 'rani', 'ravi']"
      ]
     },
     "execution_count": 71,
     "metadata": {},
     "output_type": "execute_result"
    }
   ],
   "source": [
    "def name_check(name):\n",
    "        check_bool= name[0]=='r'\n",
    "        return check_bool\n",
    "\n",
    "list(filter(name_check, name_list))"
   ]
  },
  {
   "cell_type": "code",
   "execution_count": 72,
   "id": "f38f1c78",
   "metadata": {},
   "outputs": [],
   "source": [
    "def check_first_letter(letter):\n",
    "    if  letter[0] == 'r':\n",
    "        return True"
   ]
  },
  {
   "cell_type": "code",
   "execution_count": 73,
   "id": "67224b12",
   "metadata": {},
   "outputs": [
    {
     "data": {
      "text/plain": [
       "['rajah', 'rani', 'ravi']"
      ]
     },
     "execution_count": 73,
     "metadata": {},
     "output_type": "execute_result"
    }
   ],
   "source": [
    "list(filter(check_first_letter,name_list))"
   ]
  },
  {
   "cell_type": "code",
   "execution_count": 74,
   "id": "c172fccb",
   "metadata": {},
   "outputs": [],
   "source": [
    "name_list = ['rajah', 'rani', 'kamal', 'bavi', 'ravi']"
   ]
  },
  {
   "cell_type": "code",
   "execution_count": 75,
   "id": "cfd57a4d",
   "metadata": {},
   "outputs": [],
   "source": [
    "name_emt = []\n",
    "for name in name_list:\n",
    "    if name[0]=='r':\n",
    "        name_emt.append(name)"
   ]
  },
  {
   "cell_type": "code",
   "execution_count": 76,
   "id": "a56e57f7",
   "metadata": {},
   "outputs": [
    {
     "data": {
      "text/plain": [
       "['rajah', 'rani', 'ravi']"
      ]
     },
     "execution_count": 76,
     "metadata": {},
     "output_type": "execute_result"
    }
   ],
   "source": [
    "name_emt"
   ]
  },
  {
   "cell_type": "code",
   "execution_count": 9,
   "id": "e76ca6ab",
   "metadata": {},
   "outputs": [],
   "source": [
    "def vowels(variable):\n",
    "    letters = ['a', 'e', 'i', 'o', 'u']\n",
    "    if (variable in letters):\n",
    "        return True\n",
    "    else:\n",
    "        return False"
   ]
  },
  {
   "cell_type": "code",
   "execution_count": 10,
   "id": "8164278a",
   "metadata": {},
   "outputs": [],
   "source": [
    "variables=['a','b','c','d','e','f','g','h','i','j','k','l','m','n','o','p','q','r','s','t','u','v','w','x','y','z']"
   ]
  },
  {
   "cell_type": "code",
   "execution_count": 11,
   "id": "5357b31d",
   "metadata": {},
   "outputs": [
    {
     "data": {
      "text/plain": [
       "['a', 'e', 'i', 'o', 'u']"
      ]
     },
     "execution_count": 11,
     "metadata": {},
     "output_type": "execute_result"
    }
   ],
   "source": [
    "list(filter(vowels, variables))"
   ]
  },
  {
   "cell_type": "code",
   "execution_count": 17,
   "id": "b72f8243",
   "metadata": {},
   "outputs": [
    {
     "name": "stdout",
     "output_type": "stream",
     "text": [
      "Hello Sammy\n"
     ]
    }
   ],
   "source": [
    "name='This is a global string'\n",
    "def greet():\n",
    "    name='Sammy'\n",
    "    def hello():\n",
    "        print('Hello ' + name)\n",
    "    hello()\n",
    "greet()"
   ]
  },
  {
   "cell_type": "markdown",
   "id": "7d354aa4",
   "metadata": {},
   "source": [
    "L:Local\n",
    "E:Enclosing function\n",
    "G:Global\n",
    "B:Built-in"
   ]
  },
  {
   "cell_type": "code",
   "execution_count": 21,
   "id": "416f1d49",
   "metadata": {},
   "outputs": [
    {
     "name": "stdout",
     "output_type": "stream",
     "text": [
      "x is 25\n",
      "x is 200\n",
      "50\n"
     ]
    }
   ],
   "source": [
    "x=50\n",
    "def fun():\n",
    "    x=25\n",
    "    print(f'x is {x}')\n",
    "    x=200\n",
    "    print(f'x is {x}')\n",
    "fun()\n",
    "print(x)"
   ]
  },
  {
   "cell_type": "code",
   "execution_count": 22,
   "id": "1f3f1959",
   "metadata": {},
   "outputs": [
    {
     "name": "stdout",
     "output_type": "stream",
     "text": [
      "x is 50\n",
      "just locally changed x to 200\n",
      "200\n"
     ]
    }
   ],
   "source": [
    "x=50\n",
    "def fun():\n",
    "    global x\n",
    "    print(f'x is {x}')\n",
    "    x=200\n",
    "    print(f'just locally changed x to {x}')\n",
    "fun()\n",
    "print(x)"
   ]
  },
  {
   "cell_type": "code",
   "execution_count": 2,
   "id": "f43649fe",
   "metadata": {},
   "outputs": [],
   "source": [
    "from IPython.display import clear_output\n",
    "\n",
    "def display_board(board):\n",
    "    clear_output()\n",
    "    print('      |       |')\n",
    "    print(' '+ board[7]+ '  |  '+ board[8]+ '  |  '+board[9])\n",
    "    print('      |       |')\n",
    "    print('----------------')\n",
    "    print('      |       |')\n",
    "    print(' '+ board[4]+ '  |  '+ board[5]+ '  |  '+board[6])\n",
    "    print('      |       |')\n",
    "    print('----------------')\n",
    "    print('      |       |')\n",
    "    print(' '+ board[1]+ '  |  '+ board[2]+ '  |  '+board[3])\n",
    "    print('      |       |')"
   ]
  },
  {
   "cell_type": "code",
   "execution_count": 3,
   "id": "cfb88c58",
   "metadata": {},
   "outputs": [
    {
     "name": "stdout",
     "output_type": "stream",
     "text": [
      "      |       |\n",
      " X  |  O  |  X\n",
      "      |       |\n",
      "----------------\n",
      "      |       |\n",
      " O  |  X  |  O\n",
      "      |       |\n",
      "----------------\n",
      "      |       |\n",
      " X  |  O  |  X\n",
      "      |       |\n"
     ]
    }
   ],
   "source": [
    "test_board=['#','X','O','X','O','X','O','X','O','X']\n",
    "display_board(test_board)"
   ]
  },
  {
   "cell_type": "markdown",
   "id": "06e15108",
   "metadata": {},
   "source": [
    "Write a function that can take in a player input & assign their marker 'x' or 'O' , Think about using while loops to continually ask until you get a correct answer"
   ]
  },
  {
   "cell_type": "code",
   "execution_count": 4,
   "id": "935d418b",
   "metadata": {},
   "outputs": [],
   "source": [
    "def player_input():\n",
    "    marker=' '\n",
    "    \n",
    "    while not (marker == 'X' or marker == 'O'):\n",
    "        marker=input('Player 1: Do you want to be X or  O? ').upper()\n",
    "        \n",
    "    if marker == 'X':\n",
    "        return ('X','O')\n",
    "    else:\n",
    "        return ('O','X')\n",
    "    \n",
    "    "
   ]
  },
  {
   "cell_type": "markdown",
   "id": "f0116bf8",
   "metadata": {},
   "source": [
    "run the function to make sure it returns the desired output"
   ]
  },
  {
   "cell_type": "code",
   "execution_count": 5,
   "id": "477f904b",
   "metadata": {},
   "outputs": [
    {
     "name": "stdout",
     "output_type": "stream",
     "text": [
      "Player 1: Do you want to be X or  O? x\n"
     ]
    },
    {
     "data": {
      "text/plain": [
       "('X', 'O')"
      ]
     },
     "execution_count": 5,
     "metadata": {},
     "output_type": "execute_result"
    }
   ],
   "source": [
    "player_input()"
   ]
  },
  {
   "cell_type": "code",
   "execution_count": 6,
   "id": "4c5372e8",
   "metadata": {},
   "outputs": [],
   "source": [
    "def place_marker(board,marker,position):\n",
    "    board[position]=marker"
   ]
  },
  {
   "cell_type": "code",
   "execution_count": 7,
   "id": "5a677c7b",
   "metadata": {},
   "outputs": [
    {
     "name": "stdout",
     "output_type": "stream",
     "text": [
      "      |       |\n",
      " X  |  X  |  X\n",
      "      |       |\n",
      "----------------\n",
      "      |       |\n",
      " O  |  X  |  O\n",
      "      |       |\n",
      "----------------\n",
      "      |       |\n",
      " X  |  O  |  X\n",
      "      |       |\n"
     ]
    }
   ],
   "source": [
    "place_marker(test_board,'X',8)\n",
    "display_board(test_board)"
   ]
  },
  {
   "cell_type": "code",
   "execution_count": 8,
   "id": "f294cb59",
   "metadata": {},
   "outputs": [],
   "source": [
    "def win_check(board,mark):\n",
    "    \n",
    "    return ((board[7] == mark and board[8] == mark and board[9] == mark) or\n",
    "    (board[4] == mark and board[5] == mark and board[6] == mark) or\n",
    "    (board[1] == mark and board[2] == mark and board[3] == mark) or\n",
    "    (board[7] == mark and board[4] == mark and board[1] == mark) or\n",
    "    (board[8] == mark and board[5] == mark and board[2] == mark) or\n",
    "    (board[9] == mark and board[6] == mark and board[3] == mark) or\n",
    "    (board[7] == mark and board[5] == mark and board[3] == mark) or\n",
    "    (board[9] == mark and board[5] == mark and board[1] == mark))"
   ]
  },
  {
   "cell_type": "code",
   "execution_count": 9,
   "id": "7ac4588b",
   "metadata": {},
   "outputs": [
    {
     "data": {
      "text/plain": [
       "True"
      ]
     },
     "execution_count": 9,
     "metadata": {},
     "output_type": "execute_result"
    }
   ],
   "source": [
    "win_check(test_board,'X')"
   ]
  },
  {
   "cell_type": "code",
   "execution_count": 10,
   "id": "2b445855",
   "metadata": {},
   "outputs": [],
   "source": [
    "import random \n",
    "\n",
    "def choose_first():\n",
    "    if random.randint(0, 1) == 0:\n",
    "        return 'Player 2'\n",
    "    else:\n",
    "        return 'Player 1'"
   ]
  },
  {
   "cell_type": "code",
   "execution_count": 11,
   "id": "ed717b06",
   "metadata": {},
   "outputs": [],
   "source": [
    "def space_check(board,position):\n",
    "    return board[position] == '   '\n"
   ]
  },
  {
   "cell_type": "code",
   "execution_count": 12,
   "id": "03a6726d",
   "metadata": {},
   "outputs": [],
   "source": [
    "def full_board_check(board):\n",
    "    for i in range(1,10):\n",
    "        if space_check(board,i):\n",
    "            return False\n",
    "    return True"
   ]
  },
  {
   "cell_type": "markdown",
   "id": "76162ff1",
   "metadata": {},
   "source": [
    "full board check will happen when the players were tied."
   ]
  },
  {
   "cell_type": "code",
   "execution_count": 13,
   "id": "4854702c",
   "metadata": {},
   "outputs": [
    {
     "data": {
      "text/plain": [
       "True"
      ]
     },
     "execution_count": 13,
     "metadata": {},
     "output_type": "execute_result"
    }
   ],
   "source": [
    "full_board_check(test_board)\n",
    "    "
   ]
  },
  {
   "cell_type": "code",
   "execution_count": 14,
   "id": "55624c53",
   "metadata": {},
   "outputs": [],
   "source": [
    "def player_choice(board,player):\n",
    "    position = 0\n",
    "    \n",
    "    while position not in [1,2,3,4,5,6,7,8,9] or not space_check(board,position):\n",
    "        position = int(input(player + 'Choose your next position: (1-9)'))\n",
    "        \n",
    "    return position\n",
    "    "
   ]
  },
  {
   "cell_type": "code",
   "execution_count": 15,
   "id": "86fcc6a4",
   "metadata": {},
   "outputs": [],
   "source": [
    "def replay():\n",
    "    return input('Do you want to play  again? Enter Yes or No: ').lower().startswith('y')"
   ]
  },
  {
   "cell_type": "code",
   "execution_count": null,
   "id": "b912ba39",
   "metadata": {},
   "outputs": [],
   "source": [
    "print('Welcome to Tic Tac Toe!')\n",
    "\n",
    "while True:\n",
    "    #Restart the board\n",
    "    theBoard = ['   ']*10\n",
    "    print(theBoard)\n",
    "    player1_marker,player2_marker = player_input()\n",
    "    turn=choose_first()\n",
    "    print(turn + 'will go first.')\n",
    "    \n",
    "    play_game = input('Are you ready to play? Enter Yes or NO:')\n",
    "    \n",
    "    if play_game.lower()[0] == 'y':\n",
    "        game_on=True\n",
    "    else:\n",
    "        game_on=False\n",
    "      \n",
    "    while game_on:\n",
    "        if turn == 'Player 1':\n",
    "            #player1's turn.\n",
    "            \n",
    "            display_board(theBoard)\n",
    "            position=player_choice(theBoard,'Player-1')\n",
    "            place_marker(theBoard,player1_marker,position)\n",
    "            \n",
    "            if win_check(theBoard,player1_marker):\n",
    "                display_board(theBoard)\n",
    "                print('congratulations! You have won the game!')\n",
    "                game_on=False\n",
    "            else:\n",
    "                if full_board_check(theBoard):\n",
    "                    display_board(theBoard)\n",
    "                    print('The game is a draw!')\n",
    "                    break\n",
    "                else:\n",
    "                    turn='Player 2'\n",
    "                    \n",
    "        else:\n",
    "            if turn == 'Player 2':\n",
    "                #player2's turn.\n",
    "                display_board(theBoard)\n",
    "                position=player_choice(theBoard,'Player-2')\n",
    "                place_marker(theBoard,player2_marker,position)\n",
    "            \n",
    "            if win_check(theBoard,player2_marker):\n",
    "                display_board(theBoard)\n",
    "                print('congratulations! You have won the game!')\n",
    "                game_on=False\n",
    "            else:\n",
    "                if full_board_check(theBoard):\n",
    "                    display_board(theBoard)\n",
    "                    print('The game is a draw!')\n",
    "                    break\n",
    "                else:\n",
    "                    turn='Player 1'\n",
    "                    \n",
    "    if not replay():\n",
    "        break\n",
    "    "
   ]
  },
  {
   "cell_type": "markdown",
   "id": "21c73735",
   "metadata": {},
   "source": [
    "calculating area with lambda"
   ]
  },
  {
   "cell_type": "code",
   "execution_count": 23,
   "id": "ec08139b",
   "metadata": {},
   "outputs": [],
   "source": [
    "radius_list=[7,12,15,3]"
   ]
  },
  {
   "cell_type": "code",
   "execution_count": 17,
   "id": "3e145fb8",
   "metadata": {},
   "outputs": [],
   "source": [
    "import math"
   ]
  },
  {
   "cell_type": "code",
   "execution_count": 18,
   "id": "afb1a684",
   "metadata": {},
   "outputs": [
    {
     "data": {
      "text/plain": [
       "3.141592653589793"
      ]
     },
     "execution_count": 18,
     "metadata": {},
     "output_type": "execute_result"
    }
   ],
   "source": [
    "math.pi"
   ]
  },
  {
   "cell_type": "code",
   "execution_count": 19,
   "id": "0d6cbfce",
   "metadata": {},
   "outputs": [],
   "source": [
    "def area(radius):\n",
    "    return (radius**2)*math.pi"
   ]
  },
  {
   "cell_type": "code",
   "execution_count": 20,
   "id": "34d3b493",
   "metadata": {},
   "outputs": [
    {
     "data": {
      "text/plain": [
       "12.566370614359172"
      ]
     },
     "execution_count": 20,
     "metadata": {},
     "output_type": "execute_result"
    }
   ],
   "source": [
    "area(2)"
   ]
  },
  {
   "cell_type": "code",
   "execution_count": 22,
   "id": "c2a8bf1c",
   "metadata": {},
   "outputs": [
    {
     "data": {
      "text/plain": [
       "[153.93804002589985, 452.3893421169302, 706.8583470577034, 28.274333882308138]"
      ]
     },
     "execution_count": 22,
     "metadata": {},
     "output_type": "execute_result"
    }
   ],
   "source": [
    "list(map(lambda radius:(radius**2)*math.pi,radius_list))"
   ]
  },
  {
   "cell_type": "code",
   "execution_count": 5,
   "id": "53d7937d",
   "metadata": {},
   "outputs": [],
   "source": [
    "def hello(name='rajah'):\n",
    "    \n",
    "    print('The hello() function has been executed!')\n",
    "    def greet():\n",
    "        return '\\t This is the greet() fun inside hello()'\n",
    "    def welcome():\n",
    "         return '\\t This is the welcome() fun inside hello()'\n",
    "    print (greet())\n",
    "    print (welcome())\n",
    "    print ('This is the end of the hello function')\n",
    "    "
   ]
  },
  {
   "cell_type": "code",
   "execution_count": 6,
   "id": "419d7ab6",
   "metadata": {},
   "outputs": [
    {
     "name": "stdout",
     "output_type": "stream",
     "text": [
      "The hello() function has been executed!\n",
      "\t This is the greet() fun inside hello()\n",
      "\t This is the welcome() fun inside hello()\n",
      "This is the end of the hello function\n"
     ]
    }
   ],
   "source": [
    "hello()"
   ]
  },
  {
   "cell_type": "code",
   "execution_count": 24,
   "id": "483c2f78",
   "metadata": {},
   "outputs": [
    {
     "ename": "SyntaxError",
     "evalue": "cannot delete function call (3501621336.py, line 1)",
     "output_type": "error",
     "traceback": [
      "\u001b[1;36m  Input \u001b[1;32mIn [24]\u001b[1;36m\u001b[0m\n\u001b[1;33m    del greet()\u001b[0m\n\u001b[1;37m        ^\u001b[0m\n\u001b[1;31mSyntaxError\u001b[0m\u001b[1;31m:\u001b[0m cannot delete function call\n"
     ]
    }
   ],
   "source": [
    "del greet()\n"
   ]
  },
  {
   "cell_type": "code",
   "execution_count": 25,
   "id": "5b2fb312",
   "metadata": {},
   "outputs": [
    {
     "ename": "NameError",
     "evalue": "name 'greet' is not defined",
     "output_type": "error",
     "traceback": [
      "\u001b[1;31m---------------------------------------------------------------------------\u001b[0m",
      "\u001b[1;31mNameError\u001b[0m                                 Traceback (most recent call last)",
      "Input \u001b[1;32mIn [25]\u001b[0m, in \u001b[0;36m<cell line: 1>\u001b[1;34m()\u001b[0m\n\u001b[1;32m----> 1\u001b[0m \u001b[43mgreet\u001b[49m()\n",
      "\u001b[1;31mNameError\u001b[0m: name 'greet' is not defined"
     ]
    }
   ],
   "source": [
    "greet()"
   ]
  },
  {
   "cell_type": "code",
   "execution_count": 12,
   "id": "2e47618e",
   "metadata": {},
   "outputs": [],
   "source": [
    "def hello(name='rajah'):\n",
    "    \n",
    "    print('The hello() function has been executed!')\n",
    "    def greet():\n",
    "        return '\\t This is the greet() fun inside hello()'\n",
    "    def welcome():\n",
    "         return '\\t This is the welcome() fun inside hello()'\n",
    "    print (greet())\n",
    "    print (welcome())\n",
    "    print ('This is the end of the hello function')"
   ]
  },
  {
   "cell_type": "code",
   "execution_count": 13,
   "id": "3f1c73b2",
   "metadata": {},
   "outputs": [],
   "source": [
    "def hello(name='rajah'):\n",
    "    print('The hello() function has been executed!')\n",
    "    def greet():\n",
    "        return '\\t This is the greet() fun inside hello()'\n",
    "    def welcome():\n",
    "        return '\\t This is the welcome() fun inside hello()'\n",
    "    if(name == 'Rajah'):\n",
    "        return greet\n",
    "    else:\n",
    "        return welcome\n",
    "    print ('This is the end of the hello function')\n"
   ]
  },
  {
   "cell_type": "code",
   "execution_count": 16,
   "id": "6e381047",
   "metadata": {},
   "outputs": [
    {
     "name": "stdout",
     "output_type": "stream",
     "text": [
      "The hello() function has been executed!\n"
     ]
    }
   ],
   "source": [
    "my_greet_func = hello('Rajah')"
   ]
  },
  {
   "cell_type": "code",
   "execution_count": 17,
   "id": "680daaa9",
   "metadata": {},
   "outputs": [
    {
     "name": "stdout",
     "output_type": "stream",
     "text": [
      "\t This is the greet() fun inside hello()\n"
     ]
    }
   ],
   "source": [
    "print(my_greet_func ())"
   ]
  },
  {
   "cell_type": "code",
   "execution_count": 19,
   "id": "7366f8c0",
   "metadata": {},
   "outputs": [],
   "source": [
    "def hello_():\n",
    "    return 'Hi Rajah'"
   ]
  },
  {
   "cell_type": "code",
   "execution_count": 22,
   "id": "3440bce5",
   "metadata": {},
   "outputs": [],
   "source": [
    "def other_func(some_func_def):\n",
    "    print('Other code runs here!')\n",
    "    print(some_func_def() )"
   ]
  },
  {
   "cell_type": "code",
   "execution_count": 23,
   "id": "bec4b6ca",
   "metadata": {},
   "outputs": [
    {
     "name": "stdout",
     "output_type": "stream",
     "text": [
      "Other code runs here!\n",
      "Hi Rajah\n"
     ]
    }
   ],
   "source": [
    "other_func(hello_)"
   ]
  },
  {
   "cell_type": "code",
   "execution_count": null,
   "id": "32efbff7",
   "metadata": {},
   "outputs": [],
   "source": []
  },
  {
   "cell_type": "markdown",
   "id": "943a846b",
   "metadata": {},
   "source": [
    "Creating a Decorator"
   ]
  },
  {
   "cell_type": "code",
   "execution_count": 65,
   "id": "4d7929a7",
   "metadata": {},
   "outputs": [],
   "source": [
    "def new_decorator_func(original_func):\n",
    "    def wrap_func():\n",
    "        print('Some extra code, before the original func execution!!')\n",
    "        original_func()\n",
    "        print('Some extra code, before the original func execution!!')\n",
    "    return wrap_func"
   ]
  },
  {
   "cell_type": "code",
   "execution_count": 66,
   "id": "0ccb481b",
   "metadata": {},
   "outputs": [],
   "source": [
    "def func_need_decor():\n",
    "    print('I want to be decorated ')"
   ]
  },
  {
   "cell_type": "code",
   "execution_count": 67,
   "id": "586804b6",
   "metadata": {},
   "outputs": [
    {
     "name": "stdout",
     "output_type": "stream",
     "text": [
      "Some extra code, before the original func execution!!\n",
      "I want to be decorated \n",
      "Some extra code, before the original func execution!!\n"
     ]
    }
   ],
   "source": [
    "decorated_func = new_decorator_func(func_need_decor)\n",
    "decorated_func()"
   ]
  },
  {
   "cell_type": "code",
   "execution_count": 68,
   "id": "487d52b4",
   "metadata": {},
   "outputs": [
    {
     "name": "stdout",
     "output_type": "stream",
     "text": [
      "Some extra code, before the original func execution!!\n",
      "I want to be decorated_2 \n",
      "Some extra code, before the original func execution!!\n"
     ]
    }
   ],
   "source": [
    "@new_decorator_func\n",
    "def func_need_decor_2():\n",
    "    print('I want to be decorated_2 ')\n",
    "func_need_decor_2()"
   ]
  },
  {
   "cell_type": "code",
   "execution_count": null,
   "id": "7b382507",
   "metadata": {},
   "outputs": [],
   "source": []
  },
  {
   "cell_type": "code",
   "execution_count": null,
   "id": "25b773f4",
   "metadata": {},
   "outputs": [],
   "source": []
  },
  {
   "cell_type": "code",
   "execution_count": null,
   "id": "0a449c59",
   "metadata": {},
   "outputs": [],
   "source": []
  },
  {
   "cell_type": "code",
   "execution_count": 73,
   "id": "478a19e0",
   "metadata": {},
   "outputs": [],
   "source": [
    "def decor_func_area(original_func):\n",
    "    def wrap_func(radius):\n",
    "        print('Radius is '+ str(radius) )\n",
    "        area=original_func(radius)\n",
    "        print('Area is '+ str(area))\n",
    "    return wrap_func"
   ]
  },
  {
   "cell_type": "code",
   "execution_count": 77,
   "id": "22b9b782",
   "metadata": {},
   "outputs": [
    {
     "name": "stdout",
     "output_type": "stream",
     "text": [
      "Radius is 3\n"
     ]
    },
    {
     "ename": "NameError",
     "evalue": "name 'math' is not defined",
     "output_type": "error",
     "traceback": [
      "\u001b[1;31m---------------------------------------------------------------------------\u001b[0m",
      "\u001b[1;31mNameError\u001b[0m                                 Traceback (most recent call last)",
      "Input \u001b[1;32mIn [77]\u001b[0m, in \u001b[0;36m<cell line: 4>\u001b[1;34m()\u001b[0m\n\u001b[0;32m      2\u001b[0m     \u001b[38;5;28;01mreturn\u001b[39;00m (radius\u001b[38;5;241m*\u001b[39m\u001b[38;5;241m*\u001b[39m\u001b[38;5;241m2\u001b[39m)\u001b[38;5;241m*\u001b[39mmath\u001b[38;5;241m.\u001b[39mpi\n\u001b[0;32m      3\u001b[0m calling_func\u001b[38;5;241m=\u001b[39mdecor_func_area(circle_area)\n\u001b[1;32m----> 4\u001b[0m \u001b[43mcalling_func\u001b[49m\u001b[43m(\u001b[49m\u001b[38;5;241;43m3\u001b[39;49m\u001b[43m)\u001b[49m\n",
      "Input \u001b[1;32mIn [73]\u001b[0m, in \u001b[0;36mdecor_func_area.<locals>.wrap_func\u001b[1;34m(radius)\u001b[0m\n\u001b[0;32m      2\u001b[0m \u001b[38;5;28;01mdef\u001b[39;00m \u001b[38;5;21mwrap_func\u001b[39m(radius):\n\u001b[0;32m      3\u001b[0m     \u001b[38;5;28mprint\u001b[39m(\u001b[38;5;124m'\u001b[39m\u001b[38;5;124mRadius is \u001b[39m\u001b[38;5;124m'\u001b[39m\u001b[38;5;241m+\u001b[39m \u001b[38;5;28mstr\u001b[39m(radius) )\n\u001b[1;32m----> 4\u001b[0m     area\u001b[38;5;241m=\u001b[39m\u001b[43moriginal_func\u001b[49m\u001b[43m(\u001b[49m\u001b[43mradius\u001b[49m\u001b[43m)\u001b[49m\n\u001b[0;32m      5\u001b[0m     \u001b[38;5;28mprint\u001b[39m(\u001b[38;5;124m'\u001b[39m\u001b[38;5;124mArea is \u001b[39m\u001b[38;5;124m'\u001b[39m\u001b[38;5;241m+\u001b[39m \u001b[38;5;28mstr\u001b[39m(area))\n",
      "Input \u001b[1;32mIn [77]\u001b[0m, in \u001b[0;36mcircle_area\u001b[1;34m(radius)\u001b[0m\n\u001b[0;32m      1\u001b[0m \u001b[38;5;28;01mdef\u001b[39;00m \u001b[38;5;21mcircle_area\u001b[39m(radius):\n\u001b[1;32m----> 2\u001b[0m     \u001b[38;5;28;01mreturn\u001b[39;00m (radius\u001b[38;5;241m*\u001b[39m\u001b[38;5;241m*\u001b[39m\u001b[38;5;241m2\u001b[39m)\u001b[38;5;241m*\u001b[39m\u001b[43mmath\u001b[49m\u001b[38;5;241m.\u001b[39mpi\n",
      "\u001b[1;31mNameError\u001b[0m: name 'math' is not defined"
     ]
    }
   ],
   "source": [
    "def circle_area(radius):\n",
    "    return (radius**2)*math.pi\n",
    "calling_func=decor_func_area(circle_area)\n",
    "calling_func(3)"
   ]
  },
  {
   "cell_type": "code",
   "execution_count": 76,
   "id": "5da68491",
   "metadata": {},
   "outputs": [],
   "source": [
    "def addition(namu1,num2):\n",
    "    return num1+num2"
   ]
  },
  {
   "cell_type": "code",
   "execution_count": null,
   "id": "28c75335",
   "metadata": {},
   "outputs": [],
   "source": []
  }
 ],
 "metadata": {
  "kernelspec": {
   "display_name": "Python 3 (ipykernel)",
   "language": "python",
   "name": "python3"
  },
  "language_info": {
   "codemirror_mode": {
    "name": "ipython",
    "version": 3
   },
   "file_extension": ".py",
   "mimetype": "text/x-python",
   "name": "python",
   "nbconvert_exporter": "python",
   "pygments_lexer": "ipython3",
   "version": "3.9.12"
  }
 },
 "nbformat": 4,
 "nbformat_minor": 5
}
